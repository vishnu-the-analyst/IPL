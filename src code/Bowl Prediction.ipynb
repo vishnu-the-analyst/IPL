{
 "cells": [
  {
   "cell_type": "code",
   "execution_count": 4,
   "id": "7f4f5bd6",
   "metadata": {},
   "outputs": [
    {
     "name": "stdout",
     "output_type": "stream",
     "text": [
      "match_numbers shape: (100,)\n",
      "bowler_names shape: (8,)\n",
      "team_names shape: (8,)\n",
      "opponent_names shape: (8,)\n",
      "venues shape: (100,)\n",
      "innings shape: (100,)\n",
      "overs_bowled shape: (100, 8, 20)\n"
     ]
    }
   ],
   "source": [
    "import numpy as np\n",
    "\n",
    "# Generate some random input data\n",
    "num_matches = 100\n",
    "num_bowlers = 8\n",
    "num_overs = 20\n",
    "\n",
    "match_numbers = np.random.randint(1, high=1000, size=num_matches)\n",
    "bowler_names = np.array(['Bowler ' + str(i+1) for i in range(num_bowlers)])\n",
    "team_names = np.array(['Team A'] * num_bowlers)\n",
    "opponent_names = np.array(['Team B'] * num_bowlers)\n",
    "venues = np.array(['Stadium A'] * num_matches)\n",
    "innings = np.random.randint(1, high=3, size=num_matches)\n",
    "overs_bowled = np.random.randint(0, high=2, size=(num_matches, num_bowlers, num_overs))\n",
    "\n",
    "# Normalize the input data\n",
    "overs_bowled = overs_bowled.astype(np.float32)\n",
    "\n",
    "# Print the shapes of the input data\n",
    "print(\"match_numbers shape:\", match_numbers.shape)\n",
    "print(\"bowler_names shape:\", bowler_names.shape)\n",
    "print(\"team_names shape:\", team_names.shape)\n",
    "print(\"opponent_names shape:\", opponent_names.shape)\n",
    "print(\"venues shape:\", venues.shape)\n",
    "print(\"innings shape:\", innings.shape)\n",
    "print(\"overs_bowled shape:\", overs_bowled.shape)\n"
   ]
  },
  {
   "cell_type": "code",
   "execution_count": 11,
   "id": "ddb919d5",
   "metadata": {},
   "outputs": [
    {
     "data": {
      "text/plain": [
       "array([[[0., 1., 0., ..., 0., 0., 0.],\n",
       "        [0., 0., 1., ..., 1., 0., 0.],\n",
       "        [0., 0., 1., ..., 0., 0., 0.],\n",
       "        ...,\n",
       "        [0., 1., 0., ..., 1., 1., 1.],\n",
       "        [0., 1., 0., ..., 0., 0., 1.],\n",
       "        [0., 1., 0., ..., 1., 0., 0.]],\n",
       "\n",
       "       [[0., 1., 0., ..., 1., 0., 1.],\n",
       "        [1., 0., 0., ..., 1., 1., 0.],\n",
       "        [0., 1., 0., ..., 1., 0., 1.],\n",
       "        ...,\n",
       "        [1., 1., 1., ..., 1., 0., 1.],\n",
       "        [1., 0., 1., ..., 1., 0., 1.],\n",
       "        [1., 1., 0., ..., 0., 0., 1.]],\n",
       "\n",
       "       [[0., 1., 1., ..., 1., 1., 0.],\n",
       "        [1., 0., 1., ..., 1., 0., 0.],\n",
       "        [0., 1., 0., ..., 1., 1., 0.],\n",
       "        ...,\n",
       "        [1., 0., 0., ..., 0., 1., 1.],\n",
       "        [0., 1., 0., ..., 1., 0., 1.],\n",
       "        [1., 1., 1., ..., 0., 0., 1.]],\n",
       "\n",
       "       ...,\n",
       "\n",
       "       [[0., 0., 1., ..., 1., 0., 1.],\n",
       "        [0., 1., 1., ..., 0., 0., 1.],\n",
       "        [1., 0., 1., ..., 1., 1., 0.],\n",
       "        ...,\n",
       "        [1., 1., 1., ..., 0., 0., 0.],\n",
       "        [0., 0., 0., ..., 1., 0., 0.],\n",
       "        [1., 0., 1., ..., 1., 0., 1.]],\n",
       "\n",
       "       [[0., 1., 1., ..., 1., 1., 1.],\n",
       "        [1., 0., 1., ..., 1., 0., 1.],\n",
       "        [0., 0., 0., ..., 1., 1., 0.],\n",
       "        ...,\n",
       "        [1., 1., 1., ..., 0., 0., 0.],\n",
       "        [0., 0., 0., ..., 1., 0., 1.],\n",
       "        [0., 0., 0., ..., 1., 1., 1.]],\n",
       "\n",
       "       [[1., 0., 1., ..., 1., 0., 0.],\n",
       "        [1., 0., 1., ..., 1., 0., 0.],\n",
       "        [1., 0., 0., ..., 0., 1., 1.],\n",
       "        ...,\n",
       "        [0., 0., 0., ..., 1., 1., 1.],\n",
       "        [0., 1., 0., ..., 0., 1., 0.],\n",
       "        [1., 0., 0., ..., 0., 1., 1.]]], dtype=float32)"
      ]
     },
     "execution_count": 11,
     "metadata": {},
     "output_type": "execute_result"
    }
   ],
   "source": [
    "overs_bowled"
   ]
  }
 ],
 "metadata": {
  "kernelspec": {
   "display_name": "Python 3 (ipykernel)",
   "language": "python",
   "name": "python3"
  },
  "language_info": {
   "codemirror_mode": {
    "name": "ipython",
    "version": 3
   },
   "file_extension": ".py",
   "mimetype": "text/x-python",
   "name": "python",
   "nbconvert_exporter": "python",
   "pygments_lexer": "ipython3",
   "version": "3.8.16"
  }
 },
 "nbformat": 4,
 "nbformat_minor": 5
}
