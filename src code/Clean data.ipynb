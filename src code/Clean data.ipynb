{
 "cells": [
  {
   "cell_type": "code",
   "execution_count": 132,
   "id": "68ee8af5",
   "metadata": {},
   "outputs": [],
   "source": [
    "import glob\n",
    "csv_files = (glob.glob(\"C:/Users/Vishnu Kumar/Documents/IPL/raw/*info.csv\")) "
   ]
  },
  {
   "cell_type": "code",
   "execution_count": 133,
   "id": "6c177c1e",
   "metadata": {},
   "outputs": [],
   "source": [
    "import pandas as pd\n",
    "\n",
    "\n",
    "df_append = pd.DataFrame()\n",
    "\n",
    "for file in csv_files:\n",
    "            df_temp = pd.read_csv(file,sep='漢ழ்字', engine='python',header=None)\n",
    "            df_temp['ID'] = file\n",
    "            df_temp = df_temp[(df_temp[0].str.startswith('info,toss_winner')) | (df_temp[0].str.startswith('info,toss_decision'))]\n",
    "            df_append = pd.concat([df_append,df_temp])\n",
    "\n",
    "df_append = df_append.reset_index()\n",
    "df_append[['info', 'attrib','value']] = df_append[0].str.split(\",\", expand = True)\n",
    "df_append = df_append.drop(columns=['index',0,'info'])\n",
    "df_append['ID'] = df_append['ID'].str[40:-9]\n",
    "toss_winner = df_append[df_append['attrib']=='toss_winner'].copy()\n",
    "toss_decision = df_append[df_append['attrib']=='toss_decision'].copy()\n",
    "toss_winner['ID'] = toss_winner['ID'].astype('int')\n",
    "toss_decision['ID'] = toss_decision['ID'].astype('int')"
   ]
  },
  {
   "cell_type": "code",
   "execution_count": 134,
   "id": "99487510",
   "metadata": {},
   "outputs": [
    {
     "name": "stderr",
     "output_type": "stream",
     "text": [
      "C:\\Users\\Vishnu Kumar\\AppData\\Local\\Temp\\ipykernel_8612\\3794678065.py:1: DtypeWarning: Columns (1) have mixed types. Specify dtype option on import or set low_memory=False.\n",
      "  all_matches = pd.read_csv(\"C:/Users/Vishnu Kumar/Documents/IPL/raw/all_matches.csv\")\n"
     ]
    }
   ],
   "source": [
    "all_matches = pd.read_csv(\"C:/Users/Vishnu Kumar/Documents/IPL/raw/all_matches.csv\")\n",
    "# all_matches\n",
    "all_matches = pd.merge(all_matches, toss_winner, how=\"left\" ,left_on = \"match_id\", right_on = \"ID\" )\n",
    "all_matches = all_matches.drop(columns=[\"ID\", \"attrib\"])\n",
    "all_matches = all_matches.rename(columns={\"value\": \"toss_winner\"})\n",
    "all_matches = pd.merge(all_matches, toss_decision, how=\"left\" ,left_on = \"match_id\", right_on = \"ID\" )\n",
    "all_matches = all_matches.drop(columns=[\"ID\", \"attrib\"])\n",
    "all_matches = all_matches.rename(columns={\"value\": \"toss_decision\"})\n",
    "all_matches['season'] = all_matches['season'].replace(['2007/08', '2009', '2009/10', '2011' ,'2012','2018', '2019', '2020/21', '2021'], [2008,2009,2010,2011,2012,2018,2019,2020,2021])\n",
    "all_matches['toss_win_batting'] = all_matches.apply(lambda x: 1 if x['toss_winner'] == x['batting_team'] else 0, axis=1)\n",
    "all_matches['toss_decision'] = all_matches.apply(lambda x: 1 if x['toss_decision'] == 'bat' else 0, axis=1)\n",
    "all_matches['player_dismissed'] = all_matches.apply(lambda x: 1 if x['player_dismissed'] == x['striker'] else 0, axis=1)\n",
    "all_data = all_matches.copy()\n",
    "# all_matches = pd.concat([all_matches, toss_winner], axis=1, join='outer', join_axes=[match_id,ID])"
   ]
  },
  {
   "cell_type": "code",
   "execution_count": 135,
   "id": "ea446f8f",
   "metadata": {},
   "outputs": [],
   "source": [
    "all_matches['ball'] = (all_matches['ball'].astype('int')*6)+((all_matches['ball'] - all_matches['ball'].astype('int'))*10)"
   ]
  },
  {
   "cell_type": "code",
   "execution_count": 136,
   "id": "2ea80263",
   "metadata": {},
   "outputs": [],
   "source": [
    "venue = pd.read_excel(r\"C:\\Users\\Vishnu Kumar\\Documents\\IPL\\LU\\venue.xlsx\")\n",
    "all_matches = pd.merge(all_matches, venue, how=\"left\" ,left_on = \"venue\", right_on = \"key\" )\n",
    "all_matches = all_matches.drop(columns=[\"key\", \"filter name\",\"Bit\"])\n",
    "# all_matches"
   ]
  },
  {
   "cell_type": "code",
   "execution_count": 137,
   "id": "02bca85e",
   "metadata": {},
   "outputs": [],
   "source": [
    "team = pd.read_excel(r\"C:\\Users\\Vishnu Kumar\\Documents\\IPL\\LU\\team.xlsx\")\n",
    "all_matches = pd.merge(all_matches, team, how=\"left\" ,left_on = \"batting_team\", right_on = \"key\" )\n",
    "all_matches = all_matches.drop(columns=[\"key\", \"filter name\",\"Bit\"])\n",
    "# all_matches"
   ]
  },
  {
   "cell_type": "code",
   "execution_count": 138,
   "id": "98c7d336",
   "metadata": {},
   "outputs": [],
   "source": [
    "team2 = pd.read_excel(r\"C:\\Users\\Vishnu Kumar\\Documents\\IPL\\LU\\team2.xlsx\")\n",
    "all_matches = pd.merge(all_matches, team2, how=\"left\" ,left_on = \"bowling_team\", right_on = \"key\" )\n",
    "all_matches = all_matches.drop(columns=[\"key\", \"filter name\",\"Bit\"])\n",
    "# all_matches"
   ]
  },
  {
   "cell_type": "code",
   "execution_count": 139,
   "id": "22fe4189",
   "metadata": {},
   "outputs": [],
   "source": [
    "player = pd.read_excel(r\"C:\\Users\\Vishnu Kumar\\Documents\\IPL\\LU\\player.xlsx\")\n",
    "player = player.rename(columns={\"player1\": \"striker1\",\"player2\": \"striker2\",\"player3\": \"striker3\",\"player4\": \"striker4\",\"player5\": \"striker5\",\"player6\": \"striker6\",\"player7\": \"striker7\",\"player8\": \"striker8\",\"player9\": \"striker9\",\"player10\": \"striker10\"})\n",
    "all_matches = pd.merge(all_matches, player, how=\"left\" ,left_on = \"striker\", right_on = \"key\" )\n",
    "all_matches = all_matches.drop(columns=[\"key\", \"filter name\",\"bit\"])\n",
    "# all_matches"
   ]
  },
  {
   "cell_type": "code",
   "execution_count": 140,
   "id": "f18e6fa5",
   "metadata": {},
   "outputs": [],
   "source": [
    "player = pd.read_excel(r\"C:\\Users\\Vishnu Kumar\\Documents\\IPL\\LU\\player.xlsx\")\n",
    "player = player.rename(columns={\"player1\": \"non_striker1\",\"player2\": \"non_striker2\",\"player3\": \"non_striker3\",\"player4\": \"non_striker4\",\"player5\": \"non_striker5\",\"player6\": \"non_striker6\",\"player7\": \"non_striker7\",\"player8\": \"non_striker8\",\"player9\": \"non_striker9\",\"player10\": \"non_striker10\"})\n",
    "all_matches = pd.merge(all_matches, player, how=\"left\" ,left_on = \"non_striker\", right_on = \"key\" )\n",
    "all_matches = all_matches.drop(columns=[\"key\", \"filter name\",\"bit\"])\n",
    "# all_matches"
   ]
  },
  {
   "cell_type": "code",
   "execution_count": 141,
   "id": "37df2b3d",
   "metadata": {},
   "outputs": [],
   "source": [
    "player = pd.read_excel(r\"C:\\Users\\Vishnu Kumar\\Documents\\IPL\\LU\\player.xlsx\")\n",
    "player = player.rename(columns={\"player1\": \"bowler1\",\"player2\": \"bowler2\",\"player3\": \"bowler3\",\"player4\": \"bowler4\",\"player5\": \"bowler5\",\"player6\": \"bowler6\",\"player7\": \"bowler7\",\"player8\": \"bowler8\",\"player9\": \"bowler9\",\"player10\": \"bowler10\"})\n",
    "all_matches = pd.merge(all_matches, player, how=\"left\" ,left_on = \"bowler\", right_on = \"key\" )\n",
    "all_matches = all_matches.drop(columns=[\"key\", \"filter name\",\"bit\"])\n",
    "# all_matches"
   ]
  },
  {
   "cell_type": "code",
   "execution_count": 116,
   "id": "6e22ad76",
   "metadata": {},
   "outputs": [],
   "source": [
    "wicket = pd.read_excel(r\"C:\\Users\\Vishnu Kumar\\Documents\\IPL\\LU\\wicket.xlsx\")\n",
    "# player = player.rename(columns={\"player1\": \"bowler1\",\"player2\": \"bowler2\",\"player3\": \"bowler3\",\"player4\": \"bowler4\",\"player5\": \"bowler5\",\"player6\": \"bowler6\",\"player7\": \"bowler7\",\"player8\": \"bowler8\",\"player9\": \"bowler9\",\"player10\": \"bowler10\"})\n",
    "all_matches = pd.merge(all_matches, wicket, how=\"left\" ,left_on = \"wicket_type\", right_on = \"key\" )\n",
    "all_matches = all_matches.drop(columns=[\"key\", \"filter name\",\"bit\"])\n",
    "# all_matches"
   ]
  },
  {
   "cell_type": "code",
   "execution_count": 117,
   "id": "8775eb0a",
   "metadata": {},
   "outputs": [
    {
     "name": "stderr",
     "output_type": "stream",
     "text": [
      "C:\\Users\\Vishnu Kumar\\AppData\\Local\\Temp\\ipykernel_8612\\105967443.py:4: SettingWithCopyWarning: \n",
      "A value is trying to be set on a copy of a slice from a DataFrame\n",
      "\n",
      "See the caveats in the documentation: https://pandas.pydata.org/pandas-docs/stable/user_guide/indexing.html#returning-a-view-versus-a-copy\n",
      "  all_matches['wic'][index] = temp['wicket_type'].count()\n"
     ]
    }
   ],
   "source": [
    "all_matches['wic'] = 0\n",
    "for index,row in all_matches.iterrows():\n",
    "    temp = all_matches[(all_matches['match_id']==all_matches['match_id'][index]) & (all_matches['innings']==all_matches['innings'][index]) & (all_matches['ball']<all_matches['ball'][index])]\n",
    "    all_matches['wic'][index] = temp['wicket_type'].count()\n"
   ]
  },
  {
   "cell_type": "code",
   "execution_count": 118,
   "id": "657e48a8",
   "metadata": {},
   "outputs": [],
   "source": [
    "all_matches = all_matches.fillna(0)"
   ]
  },
  {
   "cell_type": "code",
   "execution_count": 119,
   "id": "1831228e",
   "metadata": {},
   "outputs": [
    {
     "name": "stderr",
     "output_type": "stream",
     "text": [
      "C:\\Users\\Vishnu Kumar\\AppData\\Local\\Temp\\ipykernel_8612\\395309427.py:5: SettingWithCopyWarning: \n",
      "A value is trying to be set on a copy of a slice from a DataFrame\n",
      "\n",
      "See the caveats in the documentation: https://pandas.pydata.org/pandas-docs/stable/user_guide/indexing.html#returning-a-view-versus-a-copy\n",
      "  all_matches['target'][index] = temp['runs_off_bat'].sum()+temp['extras'].sum()\n"
     ]
    }
   ],
   "source": [
    "all_matches['target'] = 0\n",
    "for index,row in all_matches.iterrows():\n",
    "    if all_matches['innings'][index]==2:\n",
    "        temp = all_matches[(all_matches['match_id']==all_matches['match_id'][index]) & (all_matches['innings']==1)]\n",
    "        all_matches['target'][index] = temp['runs_off_bat'].sum()+temp['extras'].sum()\n"
   ]
  },
  {
   "cell_type": "code",
   "execution_count": 120,
   "id": "b1ed8bbf",
   "metadata": {},
   "outputs": [],
   "source": [
    "all_matches['byes'] = all_matches['byes'] + all_matches['legbyes']\n",
    "all_matches['extras'] = all_matches['extras'] - all_matches['byes']"
   ]
  },
  {
   "cell_type": "code",
   "execution_count": 121,
   "id": "a5657fd9",
   "metadata": {},
   "outputs": [],
   "source": [
    "all_matches = all_matches.drop(columns=['venue','match_id','start_date','batting_team','bowling_team','striker','non_striker','bowler','wides','noballs','legbyes','penalty','wicket_type','other_wicket_type','other_player_dismissed','toss_winner'])"
   ]
  },
  {
   "cell_type": "code",
   "execution_count": 122,
   "id": "3252492c",
   "metadata": {},
   "outputs": [
    {
     "name": "stdout",
     "output_type": "stream",
     "text": [
      "Epoch 1/50\n",
      "5649/5649 [==============================] - 15s 2ms/step - loss: 0.3880 - val_loss: 0.3465\n",
      "Epoch 2/50\n",
      "5649/5649 [==============================] - 14s 2ms/step - loss: 0.3471 - val_loss: 0.3453\n",
      "Epoch 3/50\n",
      "5649/5649 [==============================] - 14s 2ms/step - loss: 0.3457 - val_loss: 0.3451\n",
      "Epoch 4/50\n",
      "5649/5649 [==============================] - 14s 3ms/step - loss: 0.3450 - val_loss: 0.3444\n",
      "Epoch 5/50\n",
      "5649/5649 [==============================] - 14s 2ms/step - loss: 0.3445 - val_loss: 0.3444\n",
      "Epoch 6/50\n",
      "5649/5649 [==============================] - 14s 3ms/step - loss: 0.3442 - val_loss: 0.3446\n",
      "Epoch 7/50\n",
      "5649/5649 [==============================] - 14s 2ms/step - loss: 0.3440 - val_loss: 0.3439\n",
      "Epoch 8/50\n",
      "5649/5649 [==============================] - 14s 2ms/step - loss: 0.3438 - val_loss: 0.3442\n",
      "Epoch 9/50\n",
      "5649/5649 [==============================] - 14s 2ms/step - loss: 0.3438 - val_loss: 0.3441\n",
      "Epoch 10/50\n",
      "5649/5649 [==============================] - 14s 2ms/step - loss: 0.3434 - val_loss: 0.3442\n",
      "Epoch 11/50\n",
      "5649/5649 [==============================] - 14s 2ms/step - loss: 0.3431 - val_loss: 0.3441\n",
      "Epoch 12/50\n",
      "5649/5649 [==============================] - 14s 2ms/step - loss: 0.3429 - val_loss: 0.3443\n",
      "Epoch 13/50\n",
      "5649/5649 [==============================] - 14s 2ms/step - loss: 0.3428 - val_loss: 0.3441\n",
      "Epoch 14/50\n",
      "5649/5649 [==============================] - 14s 2ms/step - loss: 0.3427 - val_loss: 0.3442\n",
      "Epoch 15/50\n",
      "5649/5649 [==============================] - 14s 2ms/step - loss: 0.3427 - val_loss: 0.3446\n",
      "Epoch 16/50\n",
      "5649/5649 [==============================] - 14s 3ms/step - loss: 0.3425 - val_loss: 0.3440\n",
      "Epoch 17/50\n",
      "5649/5649 [==============================] - 16s 3ms/step - loss: 0.3423 - val_loss: 0.3440\n",
      "Epoch 18/50\n",
      "5649/5649 [==============================] - 15s 3ms/step - loss: 0.3422 - val_loss: 0.3442\n",
      "Epoch 19/50\n",
      "5649/5649 [==============================] - 15s 3ms/step - loss: 0.3421 - val_loss: 0.3442\n",
      "Epoch 20/50\n",
      "5649/5649 [==============================] - 15s 3ms/step - loss: 0.3420 - val_loss: 0.3447\n",
      "Epoch 21/50\n",
      "5649/5649 [==============================] - 14s 2ms/step - loss: 0.3419 - val_loss: 0.3442\n",
      "Epoch 22/50\n",
      "5649/5649 [==============================] - 14s 3ms/step - loss: 0.3420 - val_loss: 0.3439\n",
      "Epoch 23/50\n",
      "5649/5649 [==============================] - 14s 2ms/step - loss: 0.3416 - val_loss: 0.3443\n",
      "Epoch 24/50\n",
      "5649/5649 [==============================] - 13s 2ms/step - loss: 0.3417 - val_loss: 0.3442\n",
      "Epoch 25/50\n",
      "5649/5649 [==============================] - 13s 2ms/step - loss: 0.3415 - val_loss: 0.3440\n",
      "Epoch 26/50\n",
      "5649/5649 [==============================] - 14s 2ms/step - loss: 0.3416 - val_loss: 0.3439\n",
      "Epoch 27/50\n",
      "5649/5649 [==============================] - 13s 2ms/step - loss: 0.3416 - val_loss: 0.3439\n",
      "Epoch 28/50\n",
      "5649/5649 [==============================] - 14s 2ms/step - loss: 0.3414 - val_loss: 0.3444\n",
      "Epoch 29/50\n",
      "5649/5649 [==============================] - 14s 2ms/step - loss: 0.3414 - val_loss: 0.3438\n",
      "Epoch 30/50\n",
      "5649/5649 [==============================] - 14s 2ms/step - loss: 0.3413 - val_loss: 0.3442\n",
      "Epoch 31/50\n",
      "5649/5649 [==============================] - 15s 3ms/step - loss: 0.3412 - val_loss: 0.3442\n",
      "Epoch 32/50\n",
      "5649/5649 [==============================] - 17s 3ms/step - loss: 0.3411 - val_loss: 0.3441\n",
      "Epoch 33/50\n",
      "5649/5649 [==============================] - 14s 3ms/step - loss: 0.3412 - val_loss: 0.3440\n",
      "Epoch 34/50\n",
      "5649/5649 [==============================] - 14s 2ms/step - loss: 0.3412 - val_loss: 0.3441\n",
      "Epoch 35/50\n",
      "5649/5649 [==============================] - 14s 3ms/step - loss: 0.3411 - val_loss: 0.3448\n",
      "Epoch 36/50\n",
      "5649/5649 [==============================] - 14s 3ms/step - loss: 0.3410 - val_loss: 0.3440\n",
      "Epoch 37/50\n",
      "5649/5649 [==============================] - 14s 2ms/step - loss: 0.3409 - val_loss: 0.3442\n",
      "Epoch 38/50\n",
      "5649/5649 [==============================] - 14s 3ms/step - loss: 0.3407 - val_loss: 0.3439\n",
      "Epoch 39/50\n",
      "5649/5649 [==============================] - 14s 3ms/step - loss: 0.3406 - val_loss: 0.3439\n",
      "Epoch 40/50\n",
      "5649/5649 [==============================] - 14s 3ms/step - loss: 0.3406 - val_loss: 0.3442\n",
      "Epoch 41/50\n",
      "5649/5649 [==============================] - 14s 3ms/step - loss: 0.3406 - val_loss: 0.3439\n",
      "Epoch 42/50\n",
      "5649/5649 [==============================] - 14s 3ms/step - loss: 0.3406 - val_loss: 0.3441\n",
      "Epoch 43/50\n",
      "5649/5649 [==============================] - 14s 3ms/step - loss: 0.3406 - val_loss: 0.3441\n",
      "Epoch 44/50\n",
      "5649/5649 [==============================] - 14s 3ms/step - loss: 0.3402 - val_loss: 0.3439\n",
      "Epoch 45/50\n",
      "5649/5649 [==============================] - 14s 3ms/step - loss: 0.3403 - val_loss: 0.3443\n",
      "Epoch 46/50\n",
      "5649/5649 [==============================] - 14s 3ms/step - loss: 0.3406 - val_loss: 0.3441\n",
      "Epoch 47/50\n",
      "5649/5649 [==============================] - 14s 3ms/step - loss: 0.3404 - val_loss: 0.3439\n",
      "Epoch 48/50\n",
      "5649/5649 [==============================] - 14s 3ms/step - loss: 0.3405 - val_loss: 0.3439\n",
      "Epoch 49/50\n",
      "5649/5649 [==============================] - 14s 3ms/step - loss: 0.3404 - val_loss: 0.3440\n",
      "Epoch 50/50\n",
      "5649/5649 [==============================] - 14s 3ms/step - loss: 0.3402 - val_loss: 0.3440\n",
      "1413/1413 [==============================] - 2s 1ms/step - loss: 0.3440\n",
      "Test loss: 0.3439507782459259\n"
     ]
    }
   ],
   "source": [
    "import pandas as pd\n",
    "from sklearn.model_selection import train_test_split\n",
    "from sklearn.preprocessing import StandardScaler\n",
    "from keras.models import Sequential\n",
    "from keras.layers import Dense, BatchNormalization, Dropout\n",
    "\n",
    "# Load the cricket data into a Pandas DataFrame\n",
    "df = all_matches.copy()\n",
    "\n",
    "# Split the data into input features and output variables\n",
    "X = df.drop(['runs_off_bat', 'extras','byes','player_dismissed','wicket1','wicket2','wicket3','wicket4','non_striker1','non_striker2','non_striker3','non_striker4','non_striker5','non_striker6','non_striker7','non_striker8','non_striker9','non_striker10'], axis=1)\n",
    "y = df[['runs_off_bat', 'extras','byes','player_dismissed','wicket1','wicket2','wicket3','wicket4']]\n",
    "\n",
    "# Split the data into training and testing sets\n",
    "X_train, X_test, y_train, y_test = train_test_split(X, y, test_size=0.2, random_state=42)\n",
    "\n",
    "# Normalize the input data\n",
    "scaler = StandardScaler()\n",
    "X_train_scaled = scaler.fit_transform(X_train)\n",
    "X_test_scaled = scaler.transform(X_test)\n",
    "\n",
    "# Define the model architecture\n",
    "model = Sequential()\n",
    "model.add(Dense(64, input_shape=(X_train.shape[1],), activation='relu'))\n",
    "model.add(BatchNormalization())\n",
    "model.add(Dropout(0.2))\n",
    "model.add(Dense(32, activation='relu'))\n",
    "model.add(BatchNormalization())\n",
    "model.add(Dropout(0.2))\n",
    "model.add(Dense(8, activation='linear'))\n",
    "\n",
    "# Compile the model\n",
    "model.compile(loss='mean_squared_error', optimizer='adam')\n",
    "\n",
    "# Train the model\n",
    "model.fit(X_train_scaled, y_train, epochs=50, batch_size=32, validation_data=(X_test_scaled, y_test))\n",
    "\n",
    "# Evaluate the model\n",
    "score = model.evaluate(X_test_scaled, y_test)\n",
    "print('Test loss:', score)\n"
   ]
  },
  {
   "cell_type": "markdown",
   "id": "2fb834ce",
   "metadata": {},
   "source": [
    "Venue,\n",
    "Chinnaswamy Bangalore,\n",
    "Bindra Mohali,\n",
    "Feroz Delhi,\n",
    "Eden Kolkata,\n",
    "Wankhede Mumbai,\n",
    "Mansingh Jaipur,\n",
    "Rajiv Hyderabad,\n",
    "Chidambaram Chennai,\n",
    "Patil Mumbai,\n",
    "Newlands SA,\n",
    "George SA,\n",
    "Kingsmead SA,\n",
    "Supersport SA,\n",
    "Buffalo SA,\n",
    "Wanderers SA,\n",
    "Beers SA,\n",
    "Outsurance SA,\n",
    "Brabourne Mumbai,\n",
    "Sardar Ahmedabad,\n",
    "Barabati Cuttack,\n",
    "Brabourne Mumbai,\n",
    "Vidarbha Nagpur,\n",
    "HPCA Dharamshala,\n",
    "Jawaharlal Kochi,\n",
    "Holkar Indore,\n",
    "Rajashekar Visakhapatnam,\n",
    "Subrata Pune,\n",
    "Subrata Pune,\n",
    "Shaheed Raipur,\n",
    "JSCA Ranchi,\n",
    "Abudhabi UAE,\n",
    "Sharjah UAE,\n",
    "Dubai UAE,\n",
    "Bindra Mohali,\n",
    "Saurashtra Rajkot,\n",
    "Green Kanpur,\n",
    "Chinnaswamy Bangalore,\n",
    "Chidambaram Chennai,\n",
    "Feroz Delhi,\n",
    "Rajiv Hyderabad,\n",
    "Bindra Mohali,\n",
    "Chidambaram Chennai,\n",
    "Wankhede Mumbai,\n",
    "Sardar Ahmedabad,\n",
    "Feroz Delhi,\n",
    "Abudhabi UAE,\n",
    "Patil Mumbai,\n",
    "Subrata Pune,\n",
    "Eden Kolkata"
   ]
  },
  {
   "cell_type": "markdown",
   "id": "c9364fa0",
   "metadata": {},
   "source": [
    "Team,\n",
    "Kolkata,\n",
    "Bangalore,\n",
    "Chennai,\n",
    "Punjab,\n",
    "Rajastan,\n",
    "Delhi,\n",
    "Hyderabad,\n",
    "Mumbai,\n",
    "Kochi,\n",
    "Pune,\n",
    "Hyderabad,\n",
    "Pune,\n",
    "Gujarat,\n",
    "Pune,\n",
    "Delhi,\n",
    "Punjab,\n",
    "Lucknow,\n",
    "Gujarat"
   ]
  },
  {
   "cell_type": "code",
   "execution_count": 23,
   "id": "20752792",
   "metadata": {},
   "outputs": [
    {
     "name": "stdout",
     "output_type": "stream",
     "text": [
      "<class 'pandas.core.frame.DataFrame'>\n",
      "Int64Index: 225954 entries, 0 to 225953\n",
      "Data columns (total 25 columns):\n",
      " #   Column                  Non-Null Count   Dtype  \n",
      "---  ------                  --------------   -----  \n",
      " 0   match_id                225954 non-null  int64  \n",
      " 1   season                  225954 non-null  int64  \n",
      " 2   start_date              225954 non-null  object \n",
      " 3   venue                   225954 non-null  object \n",
      " 4   innings                 225954 non-null  int64  \n",
      " 5   ball                    225954 non-null  int32  \n",
      " 6   batting_team            225954 non-null  object \n",
      " 7   bowling_team            225954 non-null  object \n",
      " 8   striker                 225954 non-null  object \n",
      " 9   non_striker             225954 non-null  object \n",
      " 10  bowler                  225954 non-null  object \n",
      " 11  runs_off_bat            225954 non-null  int64  \n",
      " 12  extras                  225954 non-null  int64  \n",
      " 13  wides                   7026 non-null    float64\n",
      " 14  noballs                 918 non-null     float64\n",
      " 15  byes                    583 non-null     float64\n",
      " 16  legbyes                 3531 non-null    float64\n",
      " 17  penalty                 2 non-null       float64\n",
      " 18  wicket_type             11151 non-null   object \n",
      " 19  player_dismissed        225954 non-null  int64  \n",
      " 20  other_wicket_type       0 non-null       float64\n",
      " 21  other_player_dismissed  0 non-null       float64\n",
      " 22  toss_winner             225954 non-null  object \n",
      " 23  toss_decision           225954 non-null  int64  \n",
      " 24  toss_win_batting        225954 non-null  int64  \n",
      "dtypes: float64(7), int32(1), int64(8), object(9)\n",
      "memory usage: 44.0+ MB\n"
     ]
    }
   ],
   "source": [
    "all_for_bowlers.info()"
   ]
  },
  {
   "cell_type": "code",
   "execution_count": 151,
   "id": "46fb96c3",
   "metadata": {},
   "outputs": [],
   "source": [
    "all_for_bowlers = all_data.copy()\n",
    "all_for_bowlers['ball'] = (all_for_bowlers['ball'].apply(np.floor))+1\n",
    "all_for_bowlers = all_for_bowlers.drop(columns=['start_date','striker','non_striker','runs_off_bat','extras','wides','noballs','byes','legbyes','penalty','wicket_type','player_dismissed','other_wicket_type','other_player_dismissed'])\n",
    "all_for_bowlers['over1'] = all_for_bowlers.apply(lambda x: 1 if x['ball'] == 1 else 0, axis=1)\n",
    "all_for_bowlers['over2'] = all_for_bowlers.apply(lambda x: 1 if x['ball'] == 2 else 0, axis=1)\n",
    "all_for_bowlers['over3'] = all_for_bowlers.apply(lambda x: 1 if x['ball'] == 3 else 0, axis=1)\n",
    "all_for_bowlers['over4'] = all_for_bowlers.apply(lambda x: 1 if x['ball'] == 4 else 0, axis=1)\n",
    "all_for_bowlers['over5'] = all_for_bowlers.apply(lambda x: 1 if x['ball'] == 5 else 0, axis=1)\n",
    "all_for_bowlers['over6'] = all_for_bowlers.apply(lambda x: 1 if x['ball'] == 6 else 0, axis=1)\n",
    "all_for_bowlers['over7'] = all_for_bowlers.apply(lambda x: 1 if x['ball'] == 7 else 0, axis=1)\n",
    "all_for_bowlers['over8'] = all_for_bowlers.apply(lambda x: 1 if x['ball'] == 8 else 0, axis=1)\n",
    "all_for_bowlers['over9'] = all_for_bowlers.apply(lambda x: 1 if x['ball'] == 9 else 0, axis=1)\n",
    "all_for_bowlers['over10'] = all_for_bowlers.apply(lambda x: 1 if x['ball'] == 10 else 0, axis=1)\n",
    "all_for_bowlers['over11'] = all_for_bowlers.apply(lambda x: 1 if x['ball'] == 11 else 0, axis=1)\n",
    "all_for_bowlers['over12'] = all_for_bowlers.apply(lambda x: 1 if x['ball'] == 12 else 0, axis=1)\n",
    "all_for_bowlers['over13'] = all_for_bowlers.apply(lambda x: 1 if x['ball'] == 13 else 0, axis=1)\n",
    "all_for_bowlers['over14'] = all_for_bowlers.apply(lambda x: 1 if x['ball'] == 14 else 0, axis=1)\n",
    "all_for_bowlers['over15'] = all_for_bowlers.apply(lambda x: 1 if x['ball'] == 15 else 0, axis=1)\n",
    "all_for_bowlers['over16'] = all_for_bowlers.apply(lambda x: 1 if x['ball'] == 16 else 0, axis=1)\n",
    "all_for_bowlers['over17'] = all_for_bowlers.apply(lambda x: 1 if x['ball'] == 17 else 0, axis=1)\n",
    "all_for_bowlers['over18'] = all_for_bowlers.apply(lambda x: 1 if x['ball'] == 18 else 0, axis=1)\n",
    "all_for_bowlers['over19'] = all_for_bowlers.apply(lambda x: 1 if x['ball'] == 19 else 0, axis=1)\n",
    "all_for_bowlers['over20'] = all_for_bowlers.apply(lambda x: 1 if x['ball'] == 20 else 0, axis=1)\n",
    "# all_for_bowlers"
   ]
  },
  {
   "cell_type": "code",
   "execution_count": null,
   "id": "297ca870",
   "metadata": {},
   "outputs": [],
   "source": [
    "all_for_bowlers = pd.pivot_table(df, values='D', index=['A', 'B'], columns=['C'], aggfunc=np.sum)"
   ]
  },
  {
   "cell_type": "code",
   "execution_count": 143,
   "id": "6dda944d",
   "metadata": {},
   "outputs": [],
   "source": [
    "import numpy as np\n",
    "all_for_bowlers = pd.pivot_table(all_for_bowlers, values =['over1','over2','over3','over4','over5','over6','over7','over8','over9','over10','over11','over12','over13','over14','over15','over16','over17','over18','over19','over20'], index =['match_id', 'season','venue','innings','batting_team','bowling_team','bowler','toss_winner','toss_decision','toss_win_batting'], aggfunc = np.max)\n",
    "all_for_bowlers = all_for_bowlers.reset_index()\n",
    "# all_for_bowlers.head(20)\n",
    "\n",
    "# all_for_bowlers = all_for_bowlers.groupby(by=['match_id', 'season','venue','innings','batting_team','bowling_team','bowler','toss_winner','toss_decision','toss_win_batting'], dropna=False).max()\n",
    "# all_for_bowlers.head(20)"
   ]
  },
  {
   "cell_type": "code",
   "execution_count": 144,
   "id": "c82733ae",
   "metadata": {},
   "outputs": [],
   "source": [
    "venue = pd.read_excel(r\"C:\\Users\\Vishnu Kumar\\Documents\\IPL\\LU\\venue.xlsx\")\n",
    "all_for_bowlers = pd.merge(all_for_bowlers, venue, how=\"left\" ,left_on = \"venue\", right_on = \"key\" )\n",
    "all_for_bowlers = all_for_bowlers.drop(columns=[\"key\", \"filter name\",\"Bit\"])\n",
    "# all_matches\n",
    "team = pd.read_excel(r\"C:\\Users\\Vishnu Kumar\\Documents\\IPL\\LU\\team.xlsx\")\n",
    "all_for_bowlers = pd.merge(all_for_bowlers, team, how=\"left\" ,left_on = \"batting_team\", right_on = \"key\" )\n",
    "all_for_bowlers = all_for_bowlers.drop(columns=[\"key\", \"filter name\",\"Bit\"])\n",
    "# all_matches\n",
    "team2 = pd.read_excel(r\"C:\\Users\\Vishnu Kumar\\Documents\\IPL\\LU\\team2.xlsx\")\n",
    "all_for_bowlers = pd.merge(all_for_bowlers, team2, how=\"left\" ,left_on = \"bowling_team\", right_on = \"key\" )\n",
    "all_for_bowlers = all_for_bowlers.drop(columns=[\"key\", \"filter name\",\"Bit\"])\n",
    "# all_matches\n",
    "player = pd.read_excel(r\"C:\\Users\\Vishnu Kumar\\Documents\\IPL\\LU\\player.xlsx\")\n",
    "player = player.rename(columns={\"player1\": \"bowler1\",\"player2\": \"bowler2\",\"player3\": \"bowler3\",\"player4\": \"bowler4\",\"player5\": \"bowler5\",\"player6\": \"bowler6\",\"player7\": \"bowler7\",\"player8\": \"bowler8\",\"player9\": \"bowler9\",\"player10\": \"bowler10\"})\n",
    "all_for_bowlers = pd.merge(all_for_bowlers, player, how=\"left\" ,left_on = \"bowler\", right_on = \"key\" )\n",
    "all_for_bowlers = all_for_bowlers.drop(columns=[\"key\", \"filter name\",\"bit\"])\n",
    "# all_matches"
   ]
  },
  {
   "cell_type": "code",
   "execution_count": null,
   "id": "65f25daa",
   "metadata": {},
   "outputs": [],
   "source": []
  },
  {
   "cell_type": "code",
   "execution_count": null,
   "id": "0b47411d",
   "metadata": {},
   "outputs": [],
   "source": []
  },
  {
   "cell_type": "code",
   "execution_count": 173,
   "id": "1cd447a1",
   "metadata": {},
   "outputs": [
    {
     "name": "stdout",
     "output_type": "stream",
     "text": [
      "(0, 'a')\n",
      "(1, 'b')\n",
      "(2, 'c')\n"
     ]
    }
   ],
   "source": [
    "season = 2023\n",
    "innings = 1\n",
    "\n",
    "# batting_team = \n",
    "# bowling_team = \n",
    "# striker = \n",
    "# bowler =\n",
    "# toss_win_batting = \n",
    "\n",
    "ball = ['a','b','c']\n",
    "\n",
    "for i in enumerate(ball):\n",
    "    print(i)\n",
    "\n",
    "# for ball in range(120):\n",
    "#     print(ball)"
   ]
  }
 ],
 "metadata": {
  "kernelspec": {
   "display_name": "Python 3 (ipykernel)",
   "language": "python",
   "name": "python3"
  },
  "language_info": {
   "codemirror_mode": {
    "name": "ipython",
    "version": 3
   },
   "file_extension": ".py",
   "mimetype": "text/x-python",
   "name": "python",
   "nbconvert_exporter": "python",
   "pygments_lexer": "ipython3",
   "version": "3.8.16"
  }
 },
 "nbformat": 4,
 "nbformat_minor": 5
}
