{
 "cells": [
  {
   "cell_type": "code",
   "execution_count": 97,
   "id": "91b716c0",
   "metadata": {},
   "outputs": [],
   "source": [
    "import glob\n",
    "import numpy as np\n",
    "csv_files = (glob.glob(\"C:/Users/Vishnu Kumar/Documents/IPL/raw/*info.csv\")) "
   ]
  },
  {
   "cell_type": "code",
   "execution_count": 98,
   "id": "66a8dfbb",
   "metadata": {},
   "outputs": [],
   "source": [
    "import pandas as pd\n",
    "\n",
    "\n",
    "df_append = pd.DataFrame()\n",
    "\n",
    "for file in csv_files:\n",
    "            df_temp = pd.read_csv(file,sep='漢ழ்字', engine='python',header=None)\n",
    "            df_temp['ID'] = file\n",
    "            df_temp = df_temp[(df_temp[0].str.startswith('info,toss_winner')) | (df_temp[0].str.startswith('info,toss_decision'))]\n",
    "            df_append = pd.concat([df_append,df_temp])\n",
    "\n",
    "df_append = df_append.reset_index()\n",
    "df_append[['info', 'attrib','value']] = df_append[0].str.split(\",\", expand = True)\n",
    "df_append = df_append.drop(columns=['index',0,'info'])\n",
    "df_append['ID'] = df_append['ID'].str[40:-9]\n",
    "toss_winner = df_append[df_append['attrib']=='toss_winner'].copy()\n",
    "toss_decision = df_append[df_append['attrib']=='toss_decision'].copy()\n",
    "toss_winner['ID'] = toss_winner['ID'].astype('int')\n",
    "toss_decision['ID'] = toss_decision['ID'].astype('int')"
   ]
  },
  {
   "cell_type": "code",
   "execution_count": 99,
   "id": "3a346861",
   "metadata": {},
   "outputs": [
    {
     "name": "stderr",
     "output_type": "stream",
     "text": [
      "C:\\Users\\Vishnu Kumar\\AppData\\Local\\Temp\\ipykernel_15892\\579395103.py:1: DtypeWarning: Columns (1) have mixed types. Specify dtype option on import or set low_memory=False.\n",
      "  all_matches = pd.read_csv(\"C:/Users/Vishnu Kumar/Documents/IPL/raw/all_matches.csv\")\n"
     ]
    }
   ],
   "source": [
    "all_matches = pd.read_csv(\"C:/Users/Vishnu Kumar/Documents/IPL/raw/all_matches.csv\")\n",
    "# all_matches\n",
    "all_matches = pd.merge(all_matches, toss_winner, how=\"left\" ,left_on = \"match_id\", right_on = \"ID\" )\n",
    "all_matches = all_matches.drop(columns=[\"ID\", \"attrib\"])\n",
    "all_matches = all_matches.rename(columns={\"value\": \"toss_winner\"})\n",
    "all_matches = pd.merge(all_matches, toss_decision, how=\"left\" ,left_on = \"match_id\", right_on = \"ID\" )\n",
    "all_matches = all_matches.drop(columns=[\"ID\", \"attrib\"])\n",
    "all_matches = all_matches.rename(columns={\"value\": \"toss_decision\"})\n",
    "all_matches = all_matches[all_matches['innings']<=2]\n",
    "all_matches['season'] = all_matches['season'].replace(['2007/08', '2009', '2009/10', '2011' ,'2012','2018', '2019', '2020/21', '2021'], [2008,2009,2010,2011,2012,2018,2019,2020,2021])\n",
    "all_matches['toss_win_batting'] = all_matches.apply(lambda x: 1 if x['toss_winner'] == x['batting_team'] else 0, axis=1)\n",
    "all_matches['toss_decision'] = all_matches.apply(lambda x: 1 if x['toss_decision'] == 'bat' else 0, axis=1)\n",
    "all_matches['player_dismissed'] = all_matches.apply(lambda x: 1 if x['player_dismissed'] == x['striker'] else 0, axis=1)\n",
    "all_data = all_matches.copy()\n",
    "# all_matches = pd.concat([all_matches, toss_winner], axis=1, join='outer', join_axes=[match_id,ID])"
   ]
  },
  {
   "cell_type": "code",
   "execution_count": 100,
   "id": "114b020f",
   "metadata": {},
   "outputs": [],
   "source": [
    "all_matches['ball'] = (all_matches['ball'].astype('int')*6)+((all_matches['ball'] - all_matches['ball'].astype('int'))*10)"
   ]
  },
  {
   "cell_type": "code",
   "execution_count": 101,
   "id": "f55a315d",
   "metadata": {},
   "outputs": [],
   "source": [
    "all_matches['wicket'] = all_matches['wicket_type'].notnull().astype(int)"
   ]
  },
  {
   "cell_type": "code",
   "execution_count": 102,
   "id": "df478b5c",
   "metadata": {},
   "outputs": [],
   "source": [
    "all_matches = all_matches.fillna(0)"
   ]
  },
  {
   "cell_type": "code",
   "execution_count": 103,
   "id": "3c2907f8",
   "metadata": {},
   "outputs": [],
   "source": [
    "all_matches['byes'] = all_matches['byes'] + all_matches['legbyes']\n",
    "all_matches['extras'] = all_matches['extras'] - all_matches['byes']"
   ]
  },
  {
   "cell_type": "code",
   "execution_count": 104,
   "id": "dc703812",
   "metadata": {},
   "outputs": [],
   "source": [
    "all_matches = all_matches.drop(columns=['match_id','season','start_date','batting_team','non_striker','bowling_team','innings','player_dismissed','other_wicket_type','toss_winner','toss_decision','toss_win_batting','wides','noballs','legbyes','penalty','other_player_dismissed','wicket_type'])"
   ]
  },
  {
   "cell_type": "code",
   "execution_count": 105,
   "id": "a6fca4ca",
   "metadata": {},
   "outputs": [],
   "source": [
    "# all_matches.info()\n",
    "all_matches['output'] = all_matches.apply(lambda x: 'W' if x['wicket'] == 1 else str(int(x['runs_off_bat']+x['extras']+x['byes'])), axis=1)"
   ]
  },
  {
   "cell_type": "code",
   "execution_count": 106,
   "id": "3bf834d6",
   "metadata": {},
   "outputs": [],
   "source": [
    "all_matches = all_matches.drop(columns=['runs_off_bat','extras','byes','wicket'])"
   ]
  },
  {
   "cell_type": "code",
   "execution_count": 109,
   "id": "7499c697",
   "metadata": {},
   "outputs": [
    {
     "name": "stdout",
     "output_type": "stream",
     "text": [
      "Accuracy: 0.44885847782280386\n"
     ]
    }
   ],
   "source": [
    "import pandas as pd\n",
    "from sklearn.preprocessing import LabelEncoder\n",
    "from sklearn.model_selection import train_test_split\n",
    "from sklearn.metrics import accuracy_score\n",
    "from sklearn.ensemble import GradientBoostingClassifier\n",
    "\n",
    "# Load the dataset into a pandas DataFrame\n",
    "df = all_matches.copy()\n",
    "\n",
    "# Use LabelEncoder to convert categorical variables to numerical variables\n",
    "le = LabelEncoder()\n",
    "df['venue'] = le.fit_transform(df['venue'])\n",
    "df['striker'] = le.fit_transform(df['striker'])\n",
    "df['bowler'] = le.fit_transform(df['bowler'])\n",
    "\n",
    "# Split the dataset into training and testing sets\n",
    "train_df, test_df = train_test_split(df, test_size=0.2)\n",
    "\n",
    "# Create input and output variables for the model\n",
    "X_train = train_df[['venue', 'ball', 'striker', 'bowler']]\n",
    "y_train = train_df['output']\n",
    "\n",
    "X_test = test_df[['venue', 'ball', 'striker', 'bowler']]\n",
    "y_test = test_df['output']\n",
    "\n",
    "# Create and train the Gradient Boosting classifier\n",
    "gb = GradientBoostingClassifier(n_estimators=100)\n",
    "gb.fit(X_train, y_train)\n",
    "\n",
    "# Test the model using the testing data and calculate the accuracy score\n",
    "y_pred = gb.predict(X_test)\n",
    "accuracy = accuracy_score(y_test, y_pred)\n",
    "print(\"Accuracy:\", accuracy)\n"
   ]
  },
  {
   "cell_type": "code",
   "execution_count": 113,
   "id": "0741f4f4",
   "metadata": {},
   "outputs": [
    {
     "name": "stderr",
     "output_type": "stream",
     "text": [
      "C:\\Users\\Vishnu Kumar\\AppData\\Local\\Temp\\ipykernel_15892\\1904612857.py:1: SettingWithCopyWarning: \n",
      "A value is trying to be set on a copy of a slice from a DataFrame.\n",
      "Try using .loc[row_indexer,col_indexer] = value instead\n",
      "\n",
      "See the caveats in the documentation: https://pandas.pydata.org/pandas-docs/stable/user_guide/indexing.html#returning-a-view-versus-a-copy\n",
      "  X_test['outcome'] = y_pred\n"
     ]
    }
   ],
   "source": [
    "X_test['outcome'] = y_pred"
   ]
  },
  {
   "cell_type": "code",
   "execution_count": 116,
   "id": "e36f0d4e",
   "metadata": {},
   "outputs": [
    {
     "data": {
      "text/plain": [
       "array(['1', '0', 'W', '6', '3', '7'], dtype=object)"
      ]
     },
     "execution_count": 116,
     "metadata": {},
     "output_type": "execute_result"
    }
   ],
   "source": [
    "X_test['outcome'].unique()"
   ]
  },
  {
   "cell_type": "code",
   "execution_count": 121,
   "id": "e6cfa8de",
   "metadata": {},
   "outputs": [
    {
     "name": "stdout",
     "output_type": "stream",
     "text": [
      "Outcome  1\n",
      "Actual Count 93424 Predicted Count 31575\n",
      "Outcome  0\n",
      "Actual Count 68481 Predicted Count 13571\n",
      "Outcome  4\n",
      "Actual Count 25806 Predicted Count 0\n",
      "Outcome  6\n",
      "Actual Count 10586 Predicted Count 2\n",
      "Outcome  5\n",
      "Actual Count 442 Predicted Count 0\n",
      "Outcome  W\n",
      "Actual Count 11124 Predicted Count 6\n",
      "Outcome  2\n",
      "Actual Count 15030 Predicted Count 0\n",
      "Outcome  3\n",
      "Actual Count 836 Predicted Count 3\n",
      "Outcome  7\n",
      "Actual Count 64 Predicted Count 2\n"
     ]
    }
   ],
   "source": [
    "for outcome in df['output'].unique():\n",
    "    print (\"Outcome \", outcome)\n",
    "    \n",
    "    test_slice = df[df[\"output\"] == outcome]\n",
    "    \n",
    "    predicted_slice = X_test[X_test['outcome'] == outcome]\n",
    "    \n",
    "    print (\"Actual Count\", len(test_slice), \"Predicted Count\", len(predicted_slice)) \n",
    "\n",
    "    \n",
    "#     # get rows which were labelled with this outcome in the test data\n",
    "#     test_slice = test[test[\"outcome\"] == outcome]\n",
    "\n",
    "#     # get rows which were predicted with this outcome by the model\n",
    "#     predicted_slice = predicted[predicted[\"outcome\"] == outcome]\n",
    "\n",
    "#     # a vector of the average values of the inputs that were labelled with the outcome in the test set\n",
    "#     test_slice_mean = test_slice.mean() \n",
    "\n",
    "#     # a vector of the average values of the inputs that were predicted to have this outcome by the model\n",
    "#     predicted_slice_mean = predicted_slice.mean().fillna(0) \n",
    "\n",
    "#     # calculates the euclidean distance between the two vectors\n",
    "#     dist = ((predicted_slice_mean - test_slice_mean) ** 2).sum() ** 0.5\n",
    "\n",
    "#     print (\"Actual Count\", len(test_slice), \"Predicted Count\", len(predicted_slice)) # compared how many times this outcome appeared in the test set and how many times it got predicted\n",
    "#     print (\"Average Distance\", dist)"
   ]
  },
  {
   "cell_type": "code",
   "execution_count": 140,
   "id": "c8dcdbb5",
   "metadata": {},
   "outputs": [],
   "source": [
    "predicted = gb.predict_proba(X_test.drop([\"outcome\"], axis=1))"
   ]
  },
  {
   "cell_type": "code",
   "execution_count": 141,
   "id": "585ccd10",
   "metadata": {},
   "outputs": [
    {
     "data": {
      "text/plain": [
       "array([[2.19219893e-01, 4.60096722e-01, 6.83824508e-02, ...,\n",
       "        6.93735621e-02, 5.03904379e-04, 6.06761345e-02],\n",
       "       [2.48754794e-01, 5.19338777e-01, 7.18536788e-02, ...,\n",
       "        3.45479923e-02, 7.14253996e-05, 4.07439013e-02],\n",
       "       [2.74856576e-01, 4.79702127e-01, 7.51234558e-02, ...,\n",
       "        4.03369626e-02, 4.61693079e-05, 3.89623554e-02],\n",
       "       ...,\n",
       "       [2.23557967e-01, 4.52356705e-01, 8.17302798e-02, ...,\n",
       "        6.38481548e-02, 2.54762882e-04, 6.48415700e-02],\n",
       "       [2.16975791e-01, 4.48071128e-01, 9.68973856e-02, ...,\n",
       "        5.39372419e-02, 5.17408045e-04, 5.87816460e-02],\n",
       "       [4.99917812e-01, 2.76895471e-01, 4.50710597e-02, ...,\n",
       "        1.81968297e-02, 2.30394009e-05, 2.80228208e-02]])"
      ]
     },
     "execution_count": 141,
     "metadata": {},
     "output_type": "execute_result"
    }
   ],
   "source": [
    "predicted"
   ]
  },
  {
   "cell_type": "code",
   "execution_count": 142,
   "id": "ba4c8f0a",
   "metadata": {},
   "outputs": [],
   "source": [
    "preds = []"
   ]
  },
  {
   "cell_type": "code",
   "execution_count": 143,
   "id": "12f58a11",
   "metadata": {},
   "outputs": [
    {
     "name": "stdout",
     "output_type": "stream",
     "text": [
      "[0.21921989 0.46009672 0.06838245 0.00223005 0.11789129 0.00162599\n",
      " 0.06937356 0.0005039  0.06067613]\n",
      "['1']\n"
     ]
    }
   ],
   "source": [
    "from random import choices\n",
    "\n",
    "for weights in predicted:\n",
    "    outcomes = ['0','1','2','3','4','5','6','7','W']\n",
    "    print(weights)\n",
    "    # weighted random selection\n",
    "    p = choices(outcomes, weights=weights)\n",
    "\n",
    "    preds.append(p[0])\n",
    "    \n",
    "    print(preds)\n",
    "    break\n",
    "    \n"
   ]
  },
  {
   "cell_type": "code",
   "execution_count": 132,
   "id": "a2564b8d",
   "metadata": {},
   "outputs": [],
   "source": [
    "predicted = X_test.drop([\"outcome\"], axis=1)\n",
    "predicted[\"outcome\"] = preds\n"
   ]
  },
  {
   "cell_type": "code",
   "execution_count": 133,
   "id": "c9ada1eb",
   "metadata": {},
   "outputs": [
    {
     "name": "stdout",
     "output_type": "stream",
     "text": [
      "Outcome  1\n",
      "Actual Count 93424 Predicted Count 18693\n",
      "Outcome  0\n",
      "Actual Count 68481 Predicted Count 13790\n",
      "Outcome  4\n",
      "Actual Count 25806 Predicted Count 5093\n",
      "Outcome  6\n",
      "Actual Count 10586 Predicted Count 2133\n",
      "Outcome  5\n",
      "Actual Count 442 Predicted Count 87\n",
      "Outcome  W\n",
      "Actual Count 11124 Predicted Count 2263\n",
      "Outcome  2\n",
      "Actual Count 15030 Predicted Count 2924\n",
      "Outcome  3\n",
      "Actual Count 836 Predicted Count 161\n",
      "Outcome  7\n",
      "Actual Count 64 Predicted Count 15\n"
     ]
    }
   ],
   "source": [
    "for outcome in df['output'].unique():\n",
    "    print (\"Outcome \", outcome)\n",
    "    \n",
    "    test_slice = df[df[\"output\"] == outcome]\n",
    "    \n",
    "    predicted_slice = predicted[predicted['outcome'] == outcome]\n",
    "    \n",
    "    print (\"Actual Count\", len(test_slice), \"Predicted Count\", len(predicted_slice)) \n"
   ]
  },
  {
   "cell_type": "code",
   "execution_count": 134,
   "id": "5cf59af4",
   "metadata": {},
   "outputs": [
    {
     "data": {
      "text/html": [
       "<div>\n",
       "<style scoped>\n",
       "    .dataframe tbody tr th:only-of-type {\n",
       "        vertical-align: middle;\n",
       "    }\n",
       "\n",
       "    .dataframe tbody tr th {\n",
       "        vertical-align: top;\n",
       "    }\n",
       "\n",
       "    .dataframe thead th {\n",
       "        text-align: right;\n",
       "    }\n",
       "</style>\n",
       "<table border=\"1\" class=\"dataframe\">\n",
       "  <thead>\n",
       "    <tr style=\"text-align: right;\">\n",
       "      <th></th>\n",
       "      <th>venue</th>\n",
       "      <th>ball</th>\n",
       "      <th>striker</th>\n",
       "      <th>bowler</th>\n",
       "      <th>outcome</th>\n",
       "    </tr>\n",
       "  </thead>\n",
       "  <tbody>\n",
       "    <tr>\n",
       "      <th>221012</th>\n",
       "      <td>47</td>\n",
       "      <td>100.0</td>\n",
       "      <td>183</td>\n",
       "      <td>133</td>\n",
       "      <td>6</td>\n",
       "    </tr>\n",
       "    <tr>\n",
       "      <th>60141</th>\n",
       "      <td>43</td>\n",
       "      <td>65.0</td>\n",
       "      <td>45</td>\n",
       "      <td>239</td>\n",
       "      <td>1</td>\n",
       "    </tr>\n",
       "    <tr>\n",
       "      <th>76083</th>\n",
       "      <td>22</td>\n",
       "      <td>61.0</td>\n",
       "      <td>155</td>\n",
       "      <td>109</td>\n",
       "      <td>1</td>\n",
       "    </tr>\n",
       "    <tr>\n",
       "      <th>98184</th>\n",
       "      <td>40</td>\n",
       "      <td>100.0</td>\n",
       "      <td>117</td>\n",
       "      <td>172</td>\n",
       "      <td>1</td>\n",
       "    </tr>\n",
       "    <tr>\n",
       "      <th>108691</th>\n",
       "      <td>19</td>\n",
       "      <td>87.0</td>\n",
       "      <td>309</td>\n",
       "      <td>242</td>\n",
       "      <td>4</td>\n",
       "    </tr>\n",
       "    <tr>\n",
       "      <th>...</th>\n",
       "      <td>...</td>\n",
       "      <td>...</td>\n",
       "      <td>...</td>\n",
       "      <td>...</td>\n",
       "      <td>...</td>\n",
       "    </tr>\n",
       "    <tr>\n",
       "      <th>224865</th>\n",
       "      <td>47</td>\n",
       "      <td>107.0</td>\n",
       "      <td>589</td>\n",
       "      <td>197</td>\n",
       "      <td>0</td>\n",
       "    </tr>\n",
       "    <tr>\n",
       "      <th>68789</th>\n",
       "      <td>43</td>\n",
       "      <td>32.0</td>\n",
       "      <td>220</td>\n",
       "      <td>265</td>\n",
       "      <td>0</td>\n",
       "    </tr>\n",
       "    <tr>\n",
       "      <th>34858</th>\n",
       "      <td>3</td>\n",
       "      <td>96.0</td>\n",
       "      <td>417</td>\n",
       "      <td>321</td>\n",
       "      <td>W</td>\n",
       "    </tr>\n",
       "    <tr>\n",
       "      <th>133190</th>\n",
       "      <td>32</td>\n",
       "      <td>97.0</td>\n",
       "      <td>192</td>\n",
       "      <td>282</td>\n",
       "      <td>1</td>\n",
       "    </tr>\n",
       "    <tr>\n",
       "      <th>205204</th>\n",
       "      <td>10</td>\n",
       "      <td>5.0</td>\n",
       "      <td>272</td>\n",
       "      <td>434</td>\n",
       "      <td>2</td>\n",
       "    </tr>\n",
       "  </tbody>\n",
       "</table>\n",
       "<p>45159 rows × 5 columns</p>\n",
       "</div>"
      ],
      "text/plain": [
       "        venue   ball  striker  bowler outcome\n",
       "221012     47  100.0      183     133       6\n",
       "60141      43   65.0       45     239       1\n",
       "76083      22   61.0      155     109       1\n",
       "98184      40  100.0      117     172       1\n",
       "108691     19   87.0      309     242       4\n",
       "...       ...    ...      ...     ...     ...\n",
       "224865     47  107.0      589     197       0\n",
       "68789      43   32.0      220     265       0\n",
       "34858       3   96.0      417     321       W\n",
       "133190     32   97.0      192     282       1\n",
       "205204     10    5.0      272     434       2\n",
       "\n",
       "[45159 rows x 5 columns]"
      ]
     },
     "execution_count": 134,
     "metadata": {},
     "output_type": "execute_result"
    }
   ],
   "source": [
    "predicted"
   ]
  }
 ],
 "metadata": {
  "kernelspec": {
   "display_name": "Python 3 (ipykernel)",
   "language": "python",
   "name": "python3"
  },
  "language_info": {
   "codemirror_mode": {
    "name": "ipython",
    "version": 3
   },
   "file_extension": ".py",
   "mimetype": "text/x-python",
   "name": "python",
   "nbconvert_exporter": "python",
   "pygments_lexer": "ipython3",
   "version": "3.8.16"
  }
 },
 "nbformat": 4,
 "nbformat_minor": 5
}
