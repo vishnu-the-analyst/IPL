{
 "cells": [
  {
   "cell_type": "code",
   "execution_count": 187,
   "id": "91b716c0",
   "metadata": {},
   "outputs": [],
   "source": [
    "import glob\n",
    "import numpy as np\n",
    "csv_files = (glob.glob(\"C:/Users/Vishnu Kumar/Documents/IPL/raw/*info.csv\")) "
   ]
  },
  {
   "cell_type": "code",
   "execution_count": 188,
   "id": "66a8dfbb",
   "metadata": {},
   "outputs": [],
   "source": [
    "import pandas as pd\n",
    "\n",
    "\n",
    "df_append = pd.DataFrame()\n",
    "\n",
    "for file in csv_files:\n",
    "            df_temp = pd.read_csv(file,sep='漢ழ்字', engine='python',header=None)\n",
    "            df_temp['ID'] = file\n",
    "            df_temp = df_temp[(df_temp[0].str.startswith('info,toss_winner')) | (df_temp[0].str.startswith('info,toss_decision'))]\n",
    "            df_append = pd.concat([df_append,df_temp])\n",
    "\n",
    "df_append = df_append.reset_index()\n",
    "df_append[['info', 'attrib','value']] = df_append[0].str.split(\",\", expand = True)\n",
    "df_append = df_append.drop(columns=['index',0,'info'])\n",
    "df_append['ID'] = df_append['ID'].str[40:-9]\n",
    "toss_winner = df_append[df_append['attrib']=='toss_winner'].copy()\n",
    "toss_decision = df_append[df_append['attrib']=='toss_decision'].copy()\n",
    "toss_winner['ID'] = toss_winner['ID'].astype('int')\n",
    "toss_decision['ID'] = toss_decision['ID'].astype('int')"
   ]
  },
  {
   "cell_type": "code",
   "execution_count": 189,
   "id": "3a346861",
   "metadata": {},
   "outputs": [
    {
     "name": "stderr",
     "output_type": "stream",
     "text": [
      "C:\\Users\\Vishnu Kumar\\AppData\\Local\\Temp\\ipykernel_15892\\579395103.py:1: DtypeWarning: Columns (1) have mixed types. Specify dtype option on import or set low_memory=False.\n",
      "  all_matches = pd.read_csv(\"C:/Users/Vishnu Kumar/Documents/IPL/raw/all_matches.csv\")\n"
     ]
    }
   ],
   "source": [
    "all_matches = pd.read_csv(\"C:/Users/Vishnu Kumar/Documents/IPL/raw/all_matches.csv\")\n",
    "# all_matches\n",
    "all_matches = pd.merge(all_matches, toss_winner, how=\"left\" ,left_on = \"match_id\", right_on = \"ID\" )\n",
    "all_matches = all_matches.drop(columns=[\"ID\", \"attrib\"])\n",
    "all_matches = all_matches.rename(columns={\"value\": \"toss_winner\"})\n",
    "all_matches = pd.merge(all_matches, toss_decision, how=\"left\" ,left_on = \"match_id\", right_on = \"ID\" )\n",
    "all_matches = all_matches.drop(columns=[\"ID\", \"attrib\"])\n",
    "all_matches = all_matches.rename(columns={\"value\": \"toss_decision\"})\n",
    "all_matches = all_matches[all_matches['innings']<=2]\n",
    "all_matches['season'] = all_matches['season'].replace(['2007/08', '2009', '2009/10', '2011' ,'2012','2018', '2019', '2020/21', '2021'], [2008,2009,2010,2011,2012,2018,2019,2020,2021])\n",
    "all_matches['toss_win_batting'] = all_matches.apply(lambda x: 1 if x['toss_winner'] == x['batting_team'] else 0, axis=1)\n",
    "all_matches['toss_decision'] = all_matches.apply(lambda x: 1 if x['toss_decision'] == 'bat' else 0, axis=1)\n",
    "all_matches['player_dismissed'] = all_matches.apply(lambda x: 1 if x['player_dismissed'] == x['striker'] else 0, axis=1)\n",
    "all_data = all_matches.copy()\n",
    "# all_matches = pd.concat([all_matches, toss_winner], axis=1, join='outer', join_axes=[match_id,ID])"
   ]
  },
  {
   "cell_type": "code",
   "execution_count": 190,
   "id": "114b020f",
   "metadata": {},
   "outputs": [],
   "source": [
    "all_matches['ball'] = (all_matches['ball'].astype('int')*6)+((all_matches['ball'] - all_matches['ball'].astype('int'))*10)"
   ]
  },
  {
   "cell_type": "code",
   "execution_count": 191,
   "id": "fdc5e5e4",
   "metadata": {},
   "outputs": [],
   "source": [
    "all_matches['wicket'] = all_matches['wicket_type'].notnull().astype(int)"
   ]
  },
  {
   "cell_type": "code",
   "execution_count": 192,
   "id": "df478b5c",
   "metadata": {},
   "outputs": [],
   "source": [
    "all_matches = all_matches.fillna(0)"
   ]
  },
  {
   "cell_type": "code",
   "execution_count": 193,
   "id": "3c2907f8",
   "metadata": {},
   "outputs": [],
   "source": [
    "all_matches['byes'] = all_matches['byes'] + all_matches['legbyes']\n",
    "all_matches['extras'] = all_matches['extras'] - all_matches['byes']"
   ]
  },
  {
   "cell_type": "code",
   "execution_count": 194,
   "id": "dc703812",
   "metadata": {},
   "outputs": [],
   "source": [
    "all_matches = all_matches.drop(columns=['match_id','season','start_date','batting_team','non_striker','bowling_team','innings','player_dismissed','other_wicket_type','toss_winner','toss_decision','toss_win_batting','wides','noballs','legbyes','penalty','other_player_dismissed','wicket_type'])"
   ]
  },
  {
   "cell_type": "code",
   "execution_count": 195,
   "id": "a6fca4ca",
   "metadata": {},
   "outputs": [],
   "source": [
    "# all_matches.info()\n",
    "all_matches['output'] = all_matches.apply(lambda x: 'W' if x['wicket'] == 1 else str(int(x['runs_off_bat'])), axis=1)"
   ]
  },
  {
   "cell_type": "code",
   "execution_count": 196,
   "id": "bd7197a0",
   "metadata": {},
   "outputs": [],
   "source": [
    "all_matches = all_matches.drop(columns=['runs_off_bat','extras','byes','wicket'])"
   ]
  },
  {
   "cell_type": "code",
   "execution_count": 197,
   "id": "68ebcae3",
   "metadata": {},
   "outputs": [],
   "source": [
    "venue = pd.read_excel(r\"C:\\Users\\Vishnu Kumar\\Documents\\IPL\\LU\\venue.xlsx\")\n",
    "all_matches = pd.merge(all_matches, venue, how=\"left\" ,left_on = \"venue\", right_on = \"key\" )\n",
    "all_matches = all_matches.drop(columns=[\"key\"])\n",
    "# all_matches"
   ]
  },
  {
   "cell_type": "code",
   "execution_count": 202,
   "id": "a2f30c58",
   "metadata": {},
   "outputs": [],
   "source": [
    "all_matches = all_matches.drop(columns=['venue'])\n",
    "all_matches = all_matches.rename(columns= {'filter name': 'venue'})"
   ]
  },
  {
   "cell_type": "code",
   "execution_count": 222,
   "id": "b760e871",
   "metadata": {},
   "outputs": [
    {
     "data": {
      "text/html": [
       "<div>\n",
       "<style scoped>\n",
       "    .dataframe tbody tr th:only-of-type {\n",
       "        vertical-align: middle;\n",
       "    }\n",
       "\n",
       "    .dataframe tbody tr th {\n",
       "        vertical-align: top;\n",
       "    }\n",
       "\n",
       "    .dataframe thead th {\n",
       "        text-align: right;\n",
       "    }\n",
       "</style>\n",
       "<table border=\"1\" class=\"dataframe\">\n",
       "  <thead>\n",
       "    <tr style=\"text-align: right;\">\n",
       "      <th></th>\n",
       "      <th>ball</th>\n",
       "      <th>striker</th>\n",
       "      <th>bowler</th>\n",
       "      <th>output</th>\n",
       "      <th>venue</th>\n",
       "    </tr>\n",
       "  </thead>\n",
       "  <tbody>\n",
       "    <tr>\n",
       "      <th>0</th>\n",
       "      <td>1.0</td>\n",
       "      <td>SC Ganguly</td>\n",
       "      <td>P Kumar</td>\n",
       "      <td>0</td>\n",
       "      <td>Chinnaswamy Bangalore</td>\n",
       "    </tr>\n",
       "    <tr>\n",
       "      <th>1</th>\n",
       "      <td>2.0</td>\n",
       "      <td>BB McCullum</td>\n",
       "      <td>P Kumar</td>\n",
       "      <td>0</td>\n",
       "      <td>Chinnaswamy Bangalore</td>\n",
       "    </tr>\n",
       "    <tr>\n",
       "      <th>2</th>\n",
       "      <td>3.0</td>\n",
       "      <td>BB McCullum</td>\n",
       "      <td>P Kumar</td>\n",
       "      <td>0</td>\n",
       "      <td>Chinnaswamy Bangalore</td>\n",
       "    </tr>\n",
       "    <tr>\n",
       "      <th>3</th>\n",
       "      <td>4.0</td>\n",
       "      <td>BB McCullum</td>\n",
       "      <td>P Kumar</td>\n",
       "      <td>0</td>\n",
       "      <td>Chinnaswamy Bangalore</td>\n",
       "    </tr>\n",
       "    <tr>\n",
       "      <th>4</th>\n",
       "      <td>5.0</td>\n",
       "      <td>BB McCullum</td>\n",
       "      <td>P Kumar</td>\n",
       "      <td>0</td>\n",
       "      <td>Chinnaswamy Bangalore</td>\n",
       "    </tr>\n",
       "    <tr>\n",
       "      <th>...</th>\n",
       "      <td>...</td>\n",
       "      <td>...</td>\n",
       "      <td>...</td>\n",
       "      <td>...</td>\n",
       "      <td>...</td>\n",
       "    </tr>\n",
       "    <tr>\n",
       "      <th>225788</th>\n",
       "      <td>105.0</td>\n",
       "      <td>DA Miller</td>\n",
       "      <td>R Ashwin</td>\n",
       "      <td>1</td>\n",
       "      <td>Sardar Ahmedabad</td>\n",
       "    </tr>\n",
       "    <tr>\n",
       "      <th>225789</th>\n",
       "      <td>106.0</td>\n",
       "      <td>Shubman Gill</td>\n",
       "      <td>R Ashwin</td>\n",
       "      <td>0</td>\n",
       "      <td>Sardar Ahmedabad</td>\n",
       "    </tr>\n",
       "    <tr>\n",
       "      <th>225790</th>\n",
       "      <td>107.0</td>\n",
       "      <td>Shubman Gill</td>\n",
       "      <td>R Ashwin</td>\n",
       "      <td>1</td>\n",
       "      <td>Sardar Ahmedabad</td>\n",
       "    </tr>\n",
       "    <tr>\n",
       "      <th>225791</th>\n",
       "      <td>108.0</td>\n",
       "      <td>DA Miller</td>\n",
       "      <td>R Ashwin</td>\n",
       "      <td>2</td>\n",
       "      <td>Sardar Ahmedabad</td>\n",
       "    </tr>\n",
       "    <tr>\n",
       "      <th>225792</th>\n",
       "      <td>109.0</td>\n",
       "      <td>Shubman Gill</td>\n",
       "      <td>OC McCoy</td>\n",
       "      <td>6</td>\n",
       "      <td>Sardar Ahmedabad</td>\n",
       "    </tr>\n",
       "  </tbody>\n",
       "</table>\n",
       "<p>225793 rows × 5 columns</p>\n",
       "</div>"
      ],
      "text/plain": [
       "         ball       striker    bowler output                  venue\n",
       "0         1.0    SC Ganguly   P Kumar      0  Chinnaswamy Bangalore\n",
       "1         2.0   BB McCullum   P Kumar      0  Chinnaswamy Bangalore\n",
       "2         3.0   BB McCullum   P Kumar      0  Chinnaswamy Bangalore\n",
       "3         4.0   BB McCullum   P Kumar      0  Chinnaswamy Bangalore\n",
       "4         5.0   BB McCullum   P Kumar      0  Chinnaswamy Bangalore\n",
       "...       ...           ...       ...    ...                    ...\n",
       "225788  105.0     DA Miller  R Ashwin      1       Sardar Ahmedabad\n",
       "225789  106.0  Shubman Gill  R Ashwin      0       Sardar Ahmedabad\n",
       "225790  107.0  Shubman Gill  R Ashwin      1       Sardar Ahmedabad\n",
       "225791  108.0     DA Miller  R Ashwin      2       Sardar Ahmedabad\n",
       "225792  109.0  Shubman Gill  OC McCoy      6       Sardar Ahmedabad\n",
       "\n",
       "[225793 rows x 5 columns]"
      ]
     },
     "execution_count": 222,
     "metadata": {},
     "output_type": "execute_result"
    }
   ],
   "source": [
    "all_matches"
   ]
  },
  {
   "cell_type": "code",
   "execution_count": 238,
   "id": "f96bda1d",
   "metadata": {},
   "outputs": [
    {
     "name": "stdout",
     "output_type": "stream",
     "text": [
      "Decision Tree accuracy: 0.357\n",
      "Random Forest accuracy: 0.350\n",
      "Gradient Boosting accuracy: 0.383\n"
     ]
    }
   ],
   "source": [
    "import pandas as pd\n",
    "from sklearn.feature_extraction import FeatureHasher\n",
    "from sklearn.model_selection import train_test_split\n",
    "from sklearn.metrics import accuracy_score\n",
    "from sklearn.tree import DecisionTreeClassifier\n",
    "from sklearn.ensemble import RandomForestClassifier, GradientBoostingClassifier\n",
    "\n",
    "# Load data\n",
    "# all_matches = pd.read_csv('all_matches.csv')\n",
    "# Load data into pandas dataframe\n",
    "# all_matches = pd.read_csv('data.csv')\n",
    "\n",
    "# Convert feature names to strings\n",
    "all_matches['venue'] = all_matches['venue'].astype(str)\n",
    "all_matches['striker'] = all_matches['striker'].astype(str)\n",
    "all_matches['bowler'] = all_matches['bowler'].astype(str)\n",
    "\n",
    "# Split data into input and output variables\n",
    "X = all_matches[['venue', 'ball', 'striker', 'bowler']]\n",
    "y = all_matches['output']\n",
    "\n",
    "# Hash Encoding for categorical features\n",
    "hasher = FeatureHasher(n_features=15, input_type='string')\n",
    "X = hasher.fit_transform(X.applymap(str).values)\n",
    "\n",
    "# Split data into training and testing sets\n",
    "X_train, X_test, y_train, y_test = train_test_split(X, y, test_size=0.2, random_state=42)\n",
    "\n",
    "# Train and evaluate Decision Tree classifier\n",
    "dt_clf = DecisionTreeClassifier()\n",
    "dt_clf.fit(X_train, y_train)\n",
    "dt_pred = dt_clf.predict(X_test)\n",
    "dt_acc = accuracy_score(y_test, dt_pred)\n",
    "print(f'Decision Tree accuracy: {dt_acc:.3f}')\n",
    "\n",
    "# Train and evaluate Random Forest classifier\n",
    "rf_clf = RandomForestClassifier()\n",
    "rf_clf.fit(X_train, y_train)\n",
    "rf_pred = rf_clf.predict(X_test)\n",
    "rf_acc = accuracy_score(y_test, rf_pred)\n",
    "print(f'Random Forest accuracy: {rf_acc:.3f}')\n",
    "\n",
    "# Train and evaluate Gradient Boosting classifier\n",
    "gb_clf = GradientBoostingClassifier()\n",
    "gb_clf.fit(X_train, y_train)\n",
    "gb_pred = gb_clf.predict(X_test)\n",
    "gb_acc = accuracy_score(y_test, gb_pred)\n",
    "print(f'Gradient Boosting accuracy: {gb_acc:.3f}')"
   ]
  },
  {
   "cell_type": "code",
   "execution_count": 247,
   "id": "823a811d",
   "metadata": {},
   "outputs": [
    {
     "name": "stderr",
     "output_type": "stream",
     "text": [
      "C:\\ProgramData\\Anaconda3\\lib\\site-packages\\openpyxl\\worksheet\\_read_only.py:79: UserWarning: Data Validation extension is not supported and will be removed\n",
      "  for idx, row in parser.parse():\n",
      "C:\\ProgramData\\Anaconda3\\lib\\site-packages\\openpyxl\\worksheet\\_read_only.py:79: UserWarning: Data Validation extension is not supported and will be removed\n",
      "  for idx, row in parser.parse():\n"
     ]
    }
   ],
   "source": [
    "team1 = pd.read_excel(\"C:/Users/Vishnu Kumar/Documents/IPL/input/team1.xlsx\")\n",
    "team2 = pd.read_excel(\"C:/Users/Vishnu Kumar/Documents/IPL/input/team2.xlsx\")\n",
    "team1['bowl_innings'] = 2\n",
    "team2['bowl_innings'] = 1\n",
    "first_bowling_order = pd.read_csv('first_bowling_order.csv')\n",
    "second_bowling_order = pd.read_csv('second_bowling_order.csv')\n",
    "first_bowling_order = first_bowling_order.drop(columns=['Unnamed: 0'])\n",
    "second_bowling_order = second_bowling_order.drop(columns=['Unnamed: 0'])"
   ]
  },
  {
   "cell_type": "markdown",
   "id": "2e0e0903",
   "metadata": {},
   "source": [
    "Venue,\n",
    "Chinnaswamy Bangalore,\n",
    "Bindra Mohali,\n",
    "Feroz Delhi,\n",
    "Eden Kolkata,\n",
    "Wankhede Mumbai,\n",
    "Mansingh Jaipur,\n",
    "Rajiv Hyderabad,\n",
    "Chidambaram Chennai,\n",
    "Patil Mumbai,\n",
    "Newlands SA,\n",
    "George SA,\n",
    "Kingsmead SA,\n",
    "Supersport SA,\n",
    "Buffalo SA,\n",
    "Wanderers SA,\n",
    "Beers SA,\n",
    "Outsurance SA,\n",
    "Brabourne Mumbai,\n",
    "Sardar Ahmedabad,\n",
    "Barabati Cuttack,\n",
    "Brabourne Mumbai,\n",
    "Vidarbha Nagpur,\n",
    "HPCA Dharamshala,\n",
    "Jawaharlal Kochi,\n",
    "Holkar Indore,\n",
    "Rajashekar Visakhapatnam,\n",
    "Subrata Pune,\n",
    "Subrata Pune,\n",
    "Shaheed Raipur,\n",
    "JSCA Ranchi,\n",
    "Abudhabi UAE,\n",
    "Sharjah UAE,\n",
    "Dubai UAE,\n",
    "Bindra Mohali,\n",
    "Saurashtra Rajkot,\n",
    "Green Kanpur,\n",
    "Chinnaswamy Bangalore,\n",
    "Chidambaram Chennai,\n",
    "Feroz Delhi,\n",
    "Rajiv Hyderabad,\n",
    "Bindra Mohali,\n",
    "Chidambaram Chennai,\n",
    "Wankhede Mumbai,\n",
    "Sardar Ahmedabad,\n",
    "Feroz Delhi,\n",
    "Abudhabi UAE,\n",
    "Patil Mumbai,\n",
    "Subrata Pune,\n",
    "Eden Kolkata"
   ]
  },
  {
   "cell_type": "code",
   "execution_count": 250,
   "id": "5e02beb7",
   "metadata": {},
   "outputs": [
    {
     "name": "stdout",
     "output_type": "stream",
     "text": [
      "[[3.95138580e-01 3.36416976e-01 5.96366361e-02 4.79178606e-03\n",
      "  1.25331775e-01 2.64581184e-05 3.64574532e-02 4.22003358e-02]]\n"
     ]
    }
   ],
   "source": [
    "# create a new input observation\n",
    "new_observation = np.array(['Chinnaswamy Bangalore', 1, 'Virat Kohli', 'Jasprit Bumrah'])\n",
    "\n",
    "# hash encode the new observation using the same hasher object\n",
    "new_observation = hasher.transform([new_observation])\n",
    "\n",
    "# make a prediction for the new observation\n",
    "prediction = gb_clf.predict_proba(new_observation)\n",
    "\n",
    "# print the predicted output\n",
    "print(prediction)"
   ]
  },
  {
   "cell_type": "code",
   "execution_count": 360,
   "id": "2603e675",
   "metadata": {},
   "outputs": [
    {
     "name": "stdout",
     "output_type": "stream",
     "text": [
      "YBK Jaiswal  scored  1  on the  1  ball bowled by  TA Boult  in the ground  Sardar Ahmedabad\n",
      "YBK Jaiswal  scored  4  on the  2  ball bowled by  TA Boult  in the ground  Sardar Ahmedabad\n",
      "YBK Jaiswal  scored  0  on the  3  ball bowled by  TA Boult  in the ground  Sardar Ahmedabad\n",
      "test\n",
      "YBK Jaiswal  scored  1  on the  4  ball bowled by  TA Boult  in the ground  Sardar Ahmedabad\n",
      "YBK Jaiswal  scored  4  on the  5  ball bowled by  TA Boult  in the ground  Sardar Ahmedabad\n",
      "YBK Jaiswal  scored  1  on the  6  ball bowled by  TA Boult  in the ground  Sardar Ahmedabad\n"
     ]
    }
   ],
   "source": [
    "for index,row in first_bowling_order.iterrows():\n",
    "    batsman_1 = team1.iat[0,0]\n",
    "    batsman_2 = team1.iat[1,0]\n",
    "    run = 0\n",
    "    wicket = 0\n",
    "    ground = 'Sardar Ahmedabad'\n",
    "    outcomes = ['0','1','2','3','4','5','6','W']\n",
    "    \n",
    "    \n",
    "    for rr in range(len(row)):\n",
    "        for bb in range(1,7):\n",
    "            \n",
    "            new_input = np.array([ground, bb, batsman_1, row[rr]])\n",
    "            new_observation = hasher.transform([new_input])\n",
    "            prediction = gb_clf.predict_proba(new_observation)\n",
    "            p = choices(outcomes, weights=weights)\n",
    "\n",
    "            print(batsman_1, \" scored \", p[0], ' on the ', bb,' ball bowled by ', row[rr],' in the ground ',ground)\n",
    "            if p[0] == '0':\n",
    "                run = run + 0\n",
    "            elif p[0] == '1':\n",
    "                batsman_1, batsman_2 = batsman_2, batsman_1\n",
    "                run = run+1\n",
    "            elif p[0] == '2':\n",
    "                run = run+2\n",
    "            elif p[0] == '3':\n",
    "                batsman_1, batsman_2 = batsman_2, batsman_1\n",
    "                run = run+3\n",
    "            elif p[0] == '4':\n",
    "                run = run+4\n",
    "            elif p[0] == '5':\n",
    "                batsman_1, batsman_2 = batsman_2, batsman_1\n",
    "                run = run+5\n",
    "            elif p[0] == '6':\n",
    "                run = run+6\n",
    "            elif p[0] == 'W':\n",
    "                wicket = wicket + 1\n",
    "                batsman_1 = team1.iat[,0]\n",
    "                run = run+0\n",
    "        \n",
    "        break\n",
    "\n",
    "    break"
   ]
  },
  {
   "cell_type": "code",
   "execution_count": 155,
   "id": "5547c193",
   "metadata": {},
   "outputs": [],
   "source": [
    "X_test['outcome'] = y_pred"
   ]
  },
  {
   "cell_type": "code",
   "execution_count": 156,
   "id": "30ff54be",
   "metadata": {},
   "outputs": [
    {
     "data": {
      "text/plain": [
       "array(['1', '0', '5', 'W', '4', '6', '2'], dtype=object)"
      ]
     },
     "execution_count": 156,
     "metadata": {},
     "output_type": "execute_result"
    }
   ],
   "source": [
    "X_test['outcome'].unique()"
   ]
  },
  {
   "cell_type": "code",
   "execution_count": 166,
   "id": "bbc517f6",
   "metadata": {},
   "outputs": [],
   "source": [
    "predicted = gb.predict_proba(X_test.drop([\"outcome\"], axis=1))"
   ]
  },
  {
   "cell_type": "code",
   "execution_count": 167,
   "id": "070a44df",
   "metadata": {},
   "outputs": [],
   "source": [
    "preds = []"
   ]
  },
  {
   "cell_type": "code",
   "execution_count": 168,
   "id": "1b7e18ce",
   "metadata": {},
   "outputs": [],
   "source": [
    "from random import choices\n",
    "\n",
    "for weights in predicted:\n",
    "    outcomes = ['0','1','2','3','4','5','6','W']\n",
    "    # weighted random selection\n",
    "    p = choices(outcomes, weights=weights)\n",
    "\n",
    "    preds.append(p[0])\n"
   ]
  },
  {
   "cell_type": "code",
   "execution_count": 169,
   "id": "f6389385",
   "metadata": {},
   "outputs": [],
   "source": [
    "predicted = X_test.drop([\"outcome\"], axis=1)\n",
    "predicted[\"outcome\"] = preds\n"
   ]
  },
  {
   "cell_type": "code",
   "execution_count": 170,
   "id": "23761f71",
   "metadata": {},
   "outputs": [
    {
     "name": "stdout",
     "output_type": "stream",
     "text": [
      "Outcome  0\n",
      "Actual Count 79943 Predicted Count 16059\n",
      "Outcome  4\n",
      "Actual Count 25476 Predicted Count 5129\n",
      "Outcome  6\n",
      "Actual Count 10649 Predicted Count 2176\n",
      "Outcome  1\n",
      "Actual Count 83548 Predicted Count 16524\n",
      "Outcome  W\n",
      "Actual Count 11124 Predicted Count 2256\n",
      "Outcome  2\n",
      "Actual Count 14284 Predicted Count 2851\n",
      "Outcome  5\n",
      "Actual Count 61 Predicted Count 20\n",
      "Outcome  3\n",
      "Actual Count 708 Predicted Count 144\n"
     ]
    }
   ],
   "source": [
    "for outcome in df['output'].unique():\n",
    "    print (\"Outcome \", outcome)\n",
    "    \n",
    "    test_slice = df[df[\"output\"] == outcome]\n",
    "    \n",
    "    predicted_slice = predicted[predicted['outcome'] == outcome]\n",
    "    \n",
    "    print (\"Actual Count\", len(test_slice), \"Predicted Count\", len(predicted_slice)) \n"
   ]
  },
  {
   "cell_type": "code",
   "execution_count": 228,
   "id": "62776aed",
   "metadata": {},
   "outputs": [
    {
     "ename": "ValueError",
     "evalue": "y contains previously unseen labels: 'Chinnaswamy Bangalore'",
     "output_type": "error",
     "traceback": [
      "\u001b[1;31m---------------------------------------------------------------------------\u001b[0m",
      "\u001b[1;31mKeyError\u001b[0m                                  Traceback (most recent call last)",
      "\u001b[1;32mC:\\ProgramData\\Anaconda3\\lib\\site-packages\\sklearn\\utils\\_encode.py\u001b[0m in \u001b[0;36m_encode\u001b[1;34m(values, uniques, check_unknown)\u001b[0m\n\u001b[0;32m    181\u001b[0m         \u001b[1;32mtry\u001b[0m\u001b[1;33m:\u001b[0m\u001b[1;33m\u001b[0m\u001b[1;33m\u001b[0m\u001b[0m\n\u001b[1;32m--> 182\u001b[1;33m             \u001b[1;32mreturn\u001b[0m \u001b[0m_map_to_integer\u001b[0m\u001b[1;33m(\u001b[0m\u001b[0mvalues\u001b[0m\u001b[1;33m,\u001b[0m \u001b[0muniques\u001b[0m\u001b[1;33m)\u001b[0m\u001b[1;33m\u001b[0m\u001b[1;33m\u001b[0m\u001b[0m\n\u001b[0m\u001b[0;32m    183\u001b[0m         \u001b[1;32mexcept\u001b[0m \u001b[0mKeyError\u001b[0m \u001b[1;32mas\u001b[0m \u001b[0me\u001b[0m\u001b[1;33m:\u001b[0m\u001b[1;33m\u001b[0m\u001b[1;33m\u001b[0m\u001b[0m\n",
      "\u001b[1;32mC:\\ProgramData\\Anaconda3\\lib\\site-packages\\sklearn\\utils\\_encode.py\u001b[0m in \u001b[0;36m_map_to_integer\u001b[1;34m(values, uniques)\u001b[0m\n\u001b[0;32m    125\u001b[0m     \u001b[0mtable\u001b[0m \u001b[1;33m=\u001b[0m \u001b[0m_nandict\u001b[0m\u001b[1;33m(\u001b[0m\u001b[1;33m{\u001b[0m\u001b[0mval\u001b[0m\u001b[1;33m:\u001b[0m \u001b[0mi\u001b[0m \u001b[1;32mfor\u001b[0m \u001b[0mi\u001b[0m\u001b[1;33m,\u001b[0m \u001b[0mval\u001b[0m \u001b[1;32min\u001b[0m \u001b[0menumerate\u001b[0m\u001b[1;33m(\u001b[0m\u001b[0muniques\u001b[0m\u001b[1;33m)\u001b[0m\u001b[1;33m}\u001b[0m\u001b[1;33m)\u001b[0m\u001b[1;33m\u001b[0m\u001b[1;33m\u001b[0m\u001b[0m\n\u001b[1;32m--> 126\u001b[1;33m     \u001b[1;32mreturn\u001b[0m \u001b[0mnp\u001b[0m\u001b[1;33m.\u001b[0m\u001b[0marray\u001b[0m\u001b[1;33m(\u001b[0m\u001b[1;33m[\u001b[0m\u001b[0mtable\u001b[0m\u001b[1;33m[\u001b[0m\u001b[0mv\u001b[0m\u001b[1;33m]\u001b[0m \u001b[1;32mfor\u001b[0m \u001b[0mv\u001b[0m \u001b[1;32min\u001b[0m \u001b[0mvalues\u001b[0m\u001b[1;33m]\u001b[0m\u001b[1;33m)\u001b[0m\u001b[1;33m\u001b[0m\u001b[1;33m\u001b[0m\u001b[0m\n\u001b[0m\u001b[0;32m    127\u001b[0m \u001b[1;33m\u001b[0m\u001b[0m\n",
      "\u001b[1;32mC:\\ProgramData\\Anaconda3\\lib\\site-packages\\sklearn\\utils\\_encode.py\u001b[0m in \u001b[0;36m<listcomp>\u001b[1;34m(.0)\u001b[0m\n\u001b[0;32m    125\u001b[0m     \u001b[0mtable\u001b[0m \u001b[1;33m=\u001b[0m \u001b[0m_nandict\u001b[0m\u001b[1;33m(\u001b[0m\u001b[1;33m{\u001b[0m\u001b[0mval\u001b[0m\u001b[1;33m:\u001b[0m \u001b[0mi\u001b[0m \u001b[1;32mfor\u001b[0m \u001b[0mi\u001b[0m\u001b[1;33m,\u001b[0m \u001b[0mval\u001b[0m \u001b[1;32min\u001b[0m \u001b[0menumerate\u001b[0m\u001b[1;33m(\u001b[0m\u001b[0muniques\u001b[0m\u001b[1;33m)\u001b[0m\u001b[1;33m}\u001b[0m\u001b[1;33m)\u001b[0m\u001b[1;33m\u001b[0m\u001b[1;33m\u001b[0m\u001b[0m\n\u001b[1;32m--> 126\u001b[1;33m     \u001b[1;32mreturn\u001b[0m \u001b[0mnp\u001b[0m\u001b[1;33m.\u001b[0m\u001b[0marray\u001b[0m\u001b[1;33m(\u001b[0m\u001b[1;33m[\u001b[0m\u001b[0mtable\u001b[0m\u001b[1;33m[\u001b[0m\u001b[0mv\u001b[0m\u001b[1;33m]\u001b[0m \u001b[1;32mfor\u001b[0m \u001b[0mv\u001b[0m \u001b[1;32min\u001b[0m \u001b[0mvalues\u001b[0m\u001b[1;33m]\u001b[0m\u001b[1;33m)\u001b[0m\u001b[1;33m\u001b[0m\u001b[1;33m\u001b[0m\u001b[0m\n\u001b[0m\u001b[0;32m    127\u001b[0m \u001b[1;33m\u001b[0m\u001b[0m\n",
      "\u001b[1;32mC:\\ProgramData\\Anaconda3\\lib\\site-packages\\sklearn\\utils\\_encode.py\u001b[0m in \u001b[0;36m__missing__\u001b[1;34m(self, key)\u001b[0m\n\u001b[0;32m    119\u001b[0m             \u001b[1;32mreturn\u001b[0m \u001b[0mself\u001b[0m\u001b[1;33m.\u001b[0m\u001b[0mnan_value\u001b[0m\u001b[1;33m\u001b[0m\u001b[1;33m\u001b[0m\u001b[0m\n\u001b[1;32m--> 120\u001b[1;33m         \u001b[1;32mraise\u001b[0m \u001b[0mKeyError\u001b[0m\u001b[1;33m(\u001b[0m\u001b[0mkey\u001b[0m\u001b[1;33m)\u001b[0m\u001b[1;33m\u001b[0m\u001b[1;33m\u001b[0m\u001b[0m\n\u001b[0m\u001b[0;32m    121\u001b[0m \u001b[1;33m\u001b[0m\u001b[0m\n",
      "\u001b[1;31mKeyError\u001b[0m: 'Chinnaswamy Bangalore'",
      "\nDuring handling of the above exception, another exception occurred:\n",
      "\u001b[1;31mValueError\u001b[0m                                Traceback (most recent call last)",
      "\u001b[1;32m~\\AppData\\Local\\Temp\\ipykernel_15892\\3327027123.py\u001b[0m in \u001b[0;36m<module>\u001b[1;34m\u001b[0m\n\u001b[1;32m----> 1\u001b[1;33m \u001b[0mtest\u001b[0m \u001b[1;33m=\u001b[0m \u001b[0mle\u001b[0m\u001b[1;33m.\u001b[0m\u001b[0mtransform\u001b[0m\u001b[1;33m(\u001b[0m\u001b[1;33m[\u001b[0m\u001b[1;34m'Chinnaswamy Bangalore'\u001b[0m\u001b[1;33m]\u001b[0m\u001b[1;33m)\u001b[0m\u001b[1;33m[\u001b[0m\u001b[1;36m0\u001b[0m\u001b[1;33m]\u001b[0m\u001b[1;33m\u001b[0m\u001b[1;33m\u001b[0m\u001b[0m\n\u001b[0m",
      "\u001b[1;32mC:\\ProgramData\\Anaconda3\\lib\\site-packages\\sklearn\\preprocessing\\_label.py\u001b[0m in \u001b[0;36mtransform\u001b[1;34m(self, y)\u001b[0m\n\u001b[0;32m    136\u001b[0m             \u001b[1;32mreturn\u001b[0m \u001b[0mnp\u001b[0m\u001b[1;33m.\u001b[0m\u001b[0marray\u001b[0m\u001b[1;33m(\u001b[0m\u001b[1;33m[\u001b[0m\u001b[1;33m]\u001b[0m\u001b[1;33m)\u001b[0m\u001b[1;33m\u001b[0m\u001b[1;33m\u001b[0m\u001b[0m\n\u001b[0;32m    137\u001b[0m \u001b[1;33m\u001b[0m\u001b[0m\n\u001b[1;32m--> 138\u001b[1;33m         \u001b[1;32mreturn\u001b[0m \u001b[0m_encode\u001b[0m\u001b[1;33m(\u001b[0m\u001b[0my\u001b[0m\u001b[1;33m,\u001b[0m \u001b[0muniques\u001b[0m\u001b[1;33m=\u001b[0m\u001b[0mself\u001b[0m\u001b[1;33m.\u001b[0m\u001b[0mclasses_\u001b[0m\u001b[1;33m)\u001b[0m\u001b[1;33m\u001b[0m\u001b[1;33m\u001b[0m\u001b[0m\n\u001b[0m\u001b[0;32m    139\u001b[0m \u001b[1;33m\u001b[0m\u001b[0m\n\u001b[0;32m    140\u001b[0m     \u001b[1;32mdef\u001b[0m \u001b[0minverse_transform\u001b[0m\u001b[1;33m(\u001b[0m\u001b[0mself\u001b[0m\u001b[1;33m,\u001b[0m \u001b[0my\u001b[0m\u001b[1;33m)\u001b[0m\u001b[1;33m:\u001b[0m\u001b[1;33m\u001b[0m\u001b[1;33m\u001b[0m\u001b[0m\n",
      "\u001b[1;32mC:\\ProgramData\\Anaconda3\\lib\\site-packages\\sklearn\\utils\\_encode.py\u001b[0m in \u001b[0;36m_encode\u001b[1;34m(values, uniques, check_unknown)\u001b[0m\n\u001b[0;32m    182\u001b[0m             \u001b[1;32mreturn\u001b[0m \u001b[0m_map_to_integer\u001b[0m\u001b[1;33m(\u001b[0m\u001b[0mvalues\u001b[0m\u001b[1;33m,\u001b[0m \u001b[0muniques\u001b[0m\u001b[1;33m)\u001b[0m\u001b[1;33m\u001b[0m\u001b[1;33m\u001b[0m\u001b[0m\n\u001b[0;32m    183\u001b[0m         \u001b[1;32mexcept\u001b[0m \u001b[0mKeyError\u001b[0m \u001b[1;32mas\u001b[0m \u001b[0me\u001b[0m\u001b[1;33m:\u001b[0m\u001b[1;33m\u001b[0m\u001b[1;33m\u001b[0m\u001b[0m\n\u001b[1;32m--> 184\u001b[1;33m             \u001b[1;32mraise\u001b[0m \u001b[0mValueError\u001b[0m\u001b[1;33m(\u001b[0m\u001b[1;34mf\"y contains previously unseen labels: {str(e)}\"\u001b[0m\u001b[1;33m)\u001b[0m\u001b[1;33m\u001b[0m\u001b[1;33m\u001b[0m\u001b[0m\n\u001b[0m\u001b[0;32m    185\u001b[0m     \u001b[1;32melse\u001b[0m\u001b[1;33m:\u001b[0m\u001b[1;33m\u001b[0m\u001b[1;33m\u001b[0m\u001b[0m\n\u001b[0;32m    186\u001b[0m         \u001b[1;32mif\u001b[0m \u001b[0mcheck_unknown\u001b[0m\u001b[1;33m:\u001b[0m\u001b[1;33m\u001b[0m\u001b[1;33m\u001b[0m\u001b[0m\n",
      "\u001b[1;31mValueError\u001b[0m: y contains previously unseen labels: 'Chinnaswamy Bangalore'"
     ]
    }
   ],
   "source": [
    "test = le.transform(['Chinnaswamy Bangalore'])[0]"
   ]
  },
  {
   "cell_type": "code",
   "execution_count": 186,
   "id": "b102a2b1",
   "metadata": {},
   "outputs": [
    {
     "data": {
      "text/plain": [
       "'JC Buttler'"
      ]
     },
     "execution_count": 186,
     "metadata": {},
     "output_type": "execute_result"
    }
   ],
   "source": [
    "team1.iat[1,0]"
   ]
  },
  {
   "cell_type": "code",
   "execution_count": 185,
   "id": "ae935ceb",
   "metadata": {},
   "outputs": [
    {
     "data": {
      "text/html": [
       "<div>\n",
       "<style scoped>\n",
       "    .dataframe tbody tr th:only-of-type {\n",
       "        vertical-align: middle;\n",
       "    }\n",
       "\n",
       "    .dataframe tbody tr th {\n",
       "        vertical-align: top;\n",
       "    }\n",
       "\n",
       "    .dataframe thead th {\n",
       "        text-align: right;\n",
       "    }\n",
       "</style>\n",
       "<table border=\"1\" class=\"dataframe\">\n",
       "  <thead>\n",
       "    <tr style=\"text-align: right;\">\n",
       "      <th></th>\n",
       "      <th>Team1</th>\n",
       "      <th>bowl_innings</th>\n",
       "    </tr>\n",
       "  </thead>\n",
       "  <tbody>\n",
       "    <tr>\n",
       "      <th>0</th>\n",
       "      <td>YBK Jaiswal</td>\n",
       "      <td>2</td>\n",
       "    </tr>\n",
       "    <tr>\n",
       "      <th>1</th>\n",
       "      <td>JC Buttler</td>\n",
       "      <td>2</td>\n",
       "    </tr>\n",
       "    <tr>\n",
       "      <th>2</th>\n",
       "      <td>SV Samson</td>\n",
       "      <td>2</td>\n",
       "    </tr>\n",
       "    <tr>\n",
       "      <th>3</th>\n",
       "      <td>D Padikkal</td>\n",
       "      <td>2</td>\n",
       "    </tr>\n",
       "    <tr>\n",
       "      <th>4</th>\n",
       "      <td>SO Hetmyer</td>\n",
       "      <td>2</td>\n",
       "    </tr>\n",
       "    <tr>\n",
       "      <th>5</th>\n",
       "      <td>R Ashwin</td>\n",
       "      <td>2</td>\n",
       "    </tr>\n",
       "    <tr>\n",
       "      <th>6</th>\n",
       "      <td>R Parag</td>\n",
       "      <td>2</td>\n",
       "    </tr>\n",
       "    <tr>\n",
       "      <th>7</th>\n",
       "      <td>TA Boult</td>\n",
       "      <td>2</td>\n",
       "    </tr>\n",
       "    <tr>\n",
       "      <th>8</th>\n",
       "      <td>OC McCoy</td>\n",
       "      <td>2</td>\n",
       "    </tr>\n",
       "    <tr>\n",
       "      <th>9</th>\n",
       "      <td>M Prasidh Krishna</td>\n",
       "      <td>2</td>\n",
       "    </tr>\n",
       "    <tr>\n",
       "      <th>10</th>\n",
       "      <td>YS Chahal</td>\n",
       "      <td>2</td>\n",
       "    </tr>\n",
       "  </tbody>\n",
       "</table>\n",
       "</div>"
      ],
      "text/plain": [
       "                Team1  bowl_innings\n",
       "0         YBK Jaiswal             2\n",
       "1          JC Buttler             2\n",
       "2           SV Samson             2\n",
       "3          D Padikkal             2\n",
       "4          SO Hetmyer             2\n",
       "5            R Ashwin             2\n",
       "6             R Parag             2\n",
       "7            TA Boult             2\n",
       "8            OC McCoy             2\n",
       "9   M Prasidh Krishna             2\n",
       "10          YS Chahal             2"
      ]
     },
     "execution_count": 185,
     "metadata": {},
     "output_type": "execute_result"
    }
   ],
   "source": [
    "team1"
   ]
  }
 ],
 "metadata": {
  "kernelspec": {
   "display_name": "Python 3 (ipykernel)",
   "language": "python",
   "name": "python3"
  },
  "language_info": {
   "codemirror_mode": {
    "name": "ipython",
    "version": 3
   },
   "file_extension": ".py",
   "mimetype": "text/x-python",
   "name": "python",
   "nbconvert_exporter": "python",
   "pygments_lexer": "ipython3",
   "version": "3.8.16"
  }
 },
 "nbformat": 4,
 "nbformat_minor": 5
}
