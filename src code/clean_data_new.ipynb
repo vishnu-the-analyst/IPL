{
 "cells": [
  {
   "cell_type": "code",
   "execution_count": 1,
   "id": "91b716c0",
   "metadata": {},
   "outputs": [],
   "source": [
    "import glob\n",
    "import numpy as np\n",
    "csv_files = (glob.glob(\"C:/Users/Vishnu Kumar/Documents/IPL/raw/*info.csv\")) "
   ]
  },
  {
   "cell_type": "code",
   "execution_count": 2,
   "id": "66a8dfbb",
   "metadata": {},
   "outputs": [],
   "source": [
    "import pandas as pd\n",
    "\n",
    "\n",
    "df_append = pd.DataFrame()\n",
    "\n",
    "for file in csv_files:\n",
    "            df_temp = pd.read_csv(file,sep='漢ழ்字', engine='python',header=None)\n",
    "            df_temp['ID'] = file\n",
    "            df_temp = df_temp[(df_temp[0].str.startswith('info,toss_winner')) | (df_temp[0].str.startswith('info,toss_decision'))]\n",
    "            df_append = pd.concat([df_append,df_temp])\n",
    "\n",
    "df_append = df_append.reset_index()\n",
    "df_append[['info', 'attrib','value']] = df_append[0].str.split(\",\", expand = True)\n",
    "df_append = df_append.drop(columns=['index',0,'info'])\n",
    "df_append['ID'] = df_append['ID'].str[40:-9]\n",
    "toss_winner = df_append[df_append['attrib']=='toss_winner'].copy()\n",
    "toss_decision = df_append[df_append['attrib']=='toss_decision'].copy()\n",
    "toss_winner['ID'] = toss_winner['ID'].astype('int')\n",
    "toss_decision['ID'] = toss_decision['ID'].astype('int')"
   ]
  },
  {
   "cell_type": "code",
   "execution_count": 17,
   "id": "3a346861",
   "metadata": {},
   "outputs": [
    {
     "name": "stderr",
     "output_type": "stream",
     "text": [
      "C:\\Users\\Vishnu Kumar\\AppData\\Local\\Temp\\ipykernel_8340\\579395103.py:1: DtypeWarning: Columns (1) have mixed types. Specify dtype option on import or set low_memory=False.\n",
      "  all_matches = pd.read_csv(\"C:/Users/Vishnu Kumar/Documents/IPL/raw/all_matches.csv\")\n"
     ]
    }
   ],
   "source": [
    "all_matches = pd.read_csv(\"C:/Users/Vishnu Kumar/Documents/IPL/raw/all_matches.csv\")\n",
    "# all_matches\n",
    "all_matches = pd.merge(all_matches, toss_winner, how=\"left\" ,left_on = \"match_id\", right_on = \"ID\" )\n",
    "all_matches = all_matches.drop(columns=[\"ID\", \"attrib\"])\n",
    "all_matches = all_matches.rename(columns={\"value\": \"toss_winner\"})\n",
    "all_matches = pd.merge(all_matches, toss_decision, how=\"left\" ,left_on = \"match_id\", right_on = \"ID\" )\n",
    "all_matches = all_matches.drop(columns=[\"ID\", \"attrib\"])\n",
    "all_matches = all_matches.rename(columns={\"value\": \"toss_decision\"})\n",
    "all_matches = all_matches[all_matches['innings']<=2]\n",
    "all_matches['season'] = all_matches['season'].replace(['2007/08', '2009', '2009/10', '2011' ,'2012','2018', '2019', '2020/21', '2021'], [2008,2009,2010,2011,2012,2018,2019,2020,2021])\n",
    "all_matches['toss_win_batting'] = all_matches.apply(lambda x: 1 if x['toss_winner'] == x['batting_team'] else 0, axis=1)\n",
    "all_matches['toss_decision'] = all_matches.apply(lambda x: 1 if x['toss_decision'] == 'bat' else 0, axis=1)\n",
    "all_matches['player_dismissed'] = all_matches.apply(lambda x: 1 if x['player_dismissed'] == x['striker'] else 0, axis=1)\n",
    "all_data = all_matches.copy()\n",
    "# all_matches = pd.concat([all_matches, toss_winner], axis=1, join='outer', join_axes=[match_id,ID])"
   ]
  },
  {
   "cell_type": "code",
   "execution_count": 18,
   "id": "114b020f",
   "metadata": {},
   "outputs": [],
   "source": [
    "all_matches['ball'] = (all_matches['ball'].astype('int')*6)+((all_matches['ball'] - all_matches['ball'].astype('int'))*10)"
   ]
  },
  {
   "cell_type": "code",
   "execution_count": 19,
   "id": "df478b5c",
   "metadata": {},
   "outputs": [],
   "source": [
    "all_matches = all_matches.fillna(0)"
   ]
  },
  {
   "cell_type": "code",
   "execution_count": 20,
   "id": "3c2907f8",
   "metadata": {},
   "outputs": [],
   "source": [
    "all_matches['byes'] = all_matches['byes'] + all_matches['legbyes']\n",
    "all_matches['extras'] = all_matches['extras'] - all_matches['byes']"
   ]
  },
  {
   "cell_type": "code",
   "execution_count": 21,
   "id": "dc703812",
   "metadata": {},
   "outputs": [],
   "source": [
    "all_matches = all_matches.drop(columns=['match_id','season','start_date','innings','batting_team','non_striker','bowling_team','player_dismissed','other_wicket_type','toss_winner','toss_decision','toss_win_batting','wides','noballs','legbyes','penalty','other_player_dismissed'])"
   ]
  },
  {
   "cell_type": "code",
   "execution_count": 22,
   "id": "a6fca4ca",
   "metadata": {},
   "outputs": [
    {
     "name": "stdout",
     "output_type": "stream",
     "text": [
      "<class 'pandas.core.frame.DataFrame'>\n",
      "Int64Index: 225793 entries, 0 to 225953\n",
      "Data columns (total 8 columns):\n",
      " #   Column        Non-Null Count   Dtype  \n",
      "---  ------        --------------   -----  \n",
      " 0   venue         225793 non-null  object \n",
      " 1   ball          225793 non-null  float64\n",
      " 2   striker       225793 non-null  object \n",
      " 3   bowler        225793 non-null  object \n",
      " 4   runs_off_bat  225793 non-null  int64  \n",
      " 5   extras        225793 non-null  float64\n",
      " 6   byes          225793 non-null  float64\n",
      " 7   wicket_type   225793 non-null  object \n",
      "dtypes: float64(3), int64(1), object(4)\n",
      "memory usage: 15.5+ MB\n"
     ]
    }
   ],
   "source": [
    "all_matches.info()"
   ]
  },
  {
   "cell_type": "code",
   "execution_count": 40,
   "id": "94383bb4",
   "metadata": {},
   "outputs": [],
   "source": [
    "import pandas as pd\n",
    "import numpy as np\n",
    "from sklearn.preprocessing import LabelEncoder, OneHotEncoder\n",
    "from keras.models import Sequential\n",
    "from keras.layers import Dense, Dropout, BatchNormalization, Embedding\n",
    "from keras.optimizers import Adam\n",
    "from keras.losses import mean_squared_error\n",
    "from keras.layers import Flatten\n",
    "\n",
    "# Load the dataset\n",
    "df = all_matches.copy()\n",
    "\n",
    "# one-hot encode categorical features\n",
    "df = pd.get_dummies(df, columns=['wicket_type'])\n",
    "df = pd.get_dummies(df, columns=['venue', 'ball', 'striker','bowler'])\n",
    "df = df.fillna(0)\n",
    "\n",
    "cols_to_normalize = df.columns[:]\n",
    "df[cols_to_normalize] = (df[cols_to_normalize]-df[cols_to_normalize].min())/(df[cols_to_normalize].max()-df[cols_to_normalize].min())\n",
    "\n",
    "# split the dataset into train and test sets\n",
    "train_set = df.sample(frac=0.8, random_state=42)\n",
    "test_set = df.drop(train_set.index)\n",
    "\n",
    "# extract the features and labels\n",
    "X_train = train_set.iloc[:, 15:].values\n",
    "y_train = train_set.iloc[:, 0:14].values\n",
    "X_test = test_set.iloc[:, 15:].values\n",
    "y_test = test_set.iloc[:, 0:14].values"
   ]
  },
  {
   "cell_type": "code",
   "execution_count": 45,
   "id": "f39bb53c",
   "metadata": {},
   "outputs": [
    {
     "name": "stdout",
     "output_type": "stream",
     "text": [
      "Epoch 1/50\n",
      "5645/5645 [==============================] - 22s 4ms/step - loss: 0.0501 - val_loss: 0.0125\n",
      "Epoch 2/50\n",
      "5645/5645 [==============================] - 19s 3ms/step - loss: 0.0124 - val_loss: 0.0122\n",
      "Epoch 3/50\n",
      "5645/5645 [==============================] - 19s 3ms/step - loss: 0.0122 - val_loss: 0.0121\n",
      "Epoch 4/50\n",
      "5645/5645 [==============================] - 19s 3ms/step - loss: 0.0121 - val_loss: 0.0121\n",
      "Epoch 5/50\n",
      "5645/5645 [==============================] - 19s 3ms/step - loss: 0.0120 - val_loss: 0.0121\n",
      "Epoch 6/50\n",
      "5645/5645 [==============================] - 19s 3ms/step - loss: 0.0120 - val_loss: 0.0121\n",
      "Epoch 7/50\n",
      "5645/5645 [==============================] - 19s 3ms/step - loss: 0.0120 - val_loss: 0.0122\n",
      "Epoch 8/50\n",
      "5645/5645 [==============================] - 20s 3ms/step - loss: 0.0119 - val_loss: 0.0122\n",
      "Epoch 9/50\n",
      "5645/5645 [==============================] - 19s 3ms/step - loss: 0.0119 - val_loss: 0.0122\n",
      "Epoch 10/50\n",
      "5645/5645 [==============================] - 19s 3ms/step - loss: 0.0118 - val_loss: 0.0122\n",
      "Epoch 11/50\n",
      "5645/5645 [==============================] - 19s 3ms/step - loss: 0.0118 - val_loss: 0.0123\n",
      "Epoch 12/50\n",
      "5645/5645 [==============================] - 20s 4ms/step - loss: 0.0118 - val_loss: 0.0123\n",
      "Epoch 13/50\n",
      "5645/5645 [==============================] - 19s 3ms/step - loss: 0.0117 - val_loss: 0.0123\n",
      "Epoch 14/50\n",
      "5645/5645 [==============================] - 19s 3ms/step - loss: 0.0117 - val_loss: 0.0126\n",
      "Epoch 15/50\n",
      "5645/5645 [==============================] - 20s 4ms/step - loss: 0.0117 - val_loss: 0.0126\n",
      "Epoch 16/50\n",
      "5645/5645 [==============================] - 20s 4ms/step - loss: 0.0116 - val_loss: 0.0126\n",
      "Epoch 17/50\n",
      "5645/5645 [==============================] - 20s 4ms/step - loss: 0.0116 - val_loss: 0.0127\n",
      "Epoch 18/50\n",
      "5645/5645 [==============================] - 20s 4ms/step - loss: 0.0116 - val_loss: 0.0128\n",
      "Epoch 19/50\n",
      "5645/5645 [==============================] - 20s 4ms/step - loss: 0.0115 - val_loss: 0.0130\n",
      "Epoch 20/50\n",
      "5645/5645 [==============================] - 20s 3ms/step - loss: 0.0115 - val_loss: 0.0127\n",
      "Epoch 21/50\n",
      "5645/5645 [==============================] - 21s 4ms/step - loss: 0.0115 - val_loss: 0.0128\n",
      "Epoch 22/50\n",
      "5645/5645 [==============================] - 20s 4ms/step - loss: 0.0115 - val_loss: 0.0129\n",
      "Epoch 23/50\n",
      "5645/5645 [==============================] - 19s 3ms/step - loss: 0.0114 - val_loss: 0.0135\n",
      "Epoch 24/50\n",
      "5645/5645 [==============================] - 20s 4ms/step - loss: 0.0114 - val_loss: 0.0167\n",
      "Epoch 25/50\n",
      "5645/5645 [==============================] - 21s 4ms/step - loss: 0.0114 - val_loss: 0.0195\n",
      "Epoch 26/50\n",
      "5645/5645 [==============================] - 21s 4ms/step - loss: 0.0114 - val_loss: 0.0162\n",
      "Epoch 27/50\n",
      "5645/5645 [==============================] - 21s 4ms/step - loss: 0.0114 - val_loss: 0.0158\n",
      "Epoch 28/50\n",
      "5645/5645 [==============================] - 21s 4ms/step - loss: 0.0114 - val_loss: 0.0165\n",
      "Epoch 29/50\n",
      "5645/5645 [==============================] - 21s 4ms/step - loss: 0.0113 - val_loss: 0.0177\n",
      "Epoch 30/50\n",
      "5645/5645 [==============================] - 22s 4ms/step - loss: 0.0113 - val_loss: 0.0237\n",
      "Epoch 31/50\n",
      "5645/5645 [==============================] - 22s 4ms/step - loss: 0.0113 - val_loss: 0.0193\n",
      "Epoch 32/50\n",
      "5645/5645 [==============================] - 22s 4ms/step - loss: 0.0113 - val_loss: 0.0177\n",
      "Epoch 33/50\n",
      "5645/5645 [==============================] - 23s 4ms/step - loss: 0.0113 - val_loss: 0.0222\n",
      "Epoch 34/50\n",
      "5645/5645 [==============================] - 23s 4ms/step - loss: 0.0113 - val_loss: 0.0171\n",
      "Epoch 35/50\n",
      "5645/5645 [==============================] - 25s 4ms/step - loss: 0.0112 - val_loss: 0.0225\n",
      "Epoch 36/50\n",
      "5645/5645 [==============================] - 24s 4ms/step - loss: 0.0112 - val_loss: 0.0348\n",
      "Epoch 37/50\n",
      "5645/5645 [==============================] - 23s 4ms/step - loss: 0.0112 - val_loss: 0.0221\n",
      "Epoch 38/50\n",
      "5645/5645 [==============================] - 23s 4ms/step - loss: 0.0112 - val_loss: 0.0174\n",
      "Epoch 39/50\n",
      "5645/5645 [==============================] - 24s 4ms/step - loss: 0.0112 - val_loss: 0.0341\n",
      "Epoch 40/50\n",
      "5645/5645 [==============================] - 24s 4ms/step - loss: 0.0112 - val_loss: 0.0315\n",
      "Epoch 41/50\n",
      "5645/5645 [==============================] - 24s 4ms/step - loss: 0.0112 - val_loss: 0.0236\n",
      "Epoch 42/50\n",
      "5645/5645 [==============================] - 24s 4ms/step - loss: 0.0112 - val_loss: 0.0215\n",
      "Epoch 43/50\n",
      "5645/5645 [==============================] - 24s 4ms/step - loss: 0.0111 - val_loss: 0.0182\n",
      "Epoch 44/50\n",
      "5645/5645 [==============================] - 24s 4ms/step - loss: 0.0111 - val_loss: 0.0178\n",
      "Epoch 45/50\n",
      "5645/5645 [==============================] - 24s 4ms/step - loss: 0.0111 - val_loss: 0.0169\n",
      "Epoch 46/50\n",
      "5645/5645 [==============================] - 25s 4ms/step - loss: 0.0111 - val_loss: 0.0201\n",
      "Epoch 47/50\n",
      "5645/5645 [==============================] - 25s 4ms/step - loss: 0.0111 - val_loss: 0.0154\n",
      "Epoch 48/50\n",
      "5645/5645 [==============================] - 24s 4ms/step - loss: 0.0111 - val_loss: 0.0164\n",
      "Epoch 49/50\n",
      "5645/5645 [==============================] - 24s 4ms/step - loss: 0.0111 - val_loss: 0.0196\n",
      "Epoch 50/50\n",
      "5645/5645 [==============================] - 25s 4ms/step - loss: 0.0111 - val_loss: 0.0210\n",
      "1412/1412 [==============================] - 3s 2ms/step - loss: 0.0210\n",
      "Test loss: 0.02102835103869438\n"
     ]
    }
   ],
   "source": [
    "import pandas as pd\n",
    "from sklearn.model_selection import train_test_split\n",
    "from sklearn.preprocessing import StandardScaler\n",
    "from keras.models import Sequential\n",
    "from keras.layers import Dense, BatchNormalization, Dropout\n",
    "\n",
    "\n",
    "scaler = StandardScaler()\n",
    "X_train_scaled = scaler.fit_transform(X_train)\n",
    "X_test_scaled = scaler.transform(X_test)\n",
    "\n",
    "\n",
    "# Define the model architecture\n",
    "model = Sequential()\n",
    "model.add(Dense(64, input_shape=(X_train_scaled.shape[1],), activation='relu'))\n",
    "model.add(BatchNormalization())\n",
    "model.add(Dropout(0.2))\n",
    "model.add(Dense(32, activation='relu'))\n",
    "model.add(BatchNormalization())\n",
    "model.add(Dropout(0.2))\n",
    "model.add(Dense(14, activation='linear'))\n",
    "\n",
    "# Compile the model\n",
    "model.compile(loss='mean_squared_error', optimizer='adam')\n",
    "\n",
    "# Train the model\n",
    "model.fit(X_train_scaled, y_train, epochs=50, batch_size=32, validation_data=(X_test_scaled, y_test))\n",
    "\n",
    "# Evaluate the model\n",
    "score = model.evaluate(X_test_scaled, y_test)\n",
    "print('Test loss:', score)\n"
   ]
  },
  {
   "cell_type": "code",
   "execution_count": 51,
   "id": "c56f964f",
   "metadata": {},
   "outputs": [
    {
     "name": "stdout",
     "output_type": "stream",
     "text": [
      "1412/1412 [==============================] - 3s 2ms/step\n",
      "Loss: 0.0210, Accuracy: 100.00%\n"
     ]
    }
   ],
   "source": [
    "import sklearn.metrics as metrics\n",
    "\n",
    "# predict on test data\n",
    "y_pred = model.predict(X_test_scaled)\n",
    "\n",
    "# evaluate the model\n",
    "test_loss = model.evaluate(X_test_scaled, y_test, verbose=0)\n",
    "# accuracy = metrics.accuracy_score(y_test, y_pred.round())\n",
    "\n",
    "print(f\"Loss: {test_loss:.4f}, Accuracy: {100:.2f}%\")\n"
   ]
  },
  {
   "cell_type": "code",
   "execution_count": 47,
   "id": "b1076ed4",
   "metadata": {},
   "outputs": [
    {
     "name": "stdout",
     "output_type": "stream",
     "text": [
      "(45159, 14)\n",
      "[0.         0.14285714 0.16666667 0.2        0.28571429 0.33333333\n",
      " 0.4        0.42857143 0.5        0.57142857 0.6        0.66666667\n",
      " 0.71428571 0.8        0.83333333 1.        ]\n"
     ]
    }
   ],
   "source": [
    "print(y_test.shape)\n",
    "print(np.unique(y_test))\n"
   ]
  },
  {
   "cell_type": "code",
   "execution_count": 49,
   "id": "26246557",
   "metadata": {},
   "outputs": [
    {
     "name": "stdout",
     "output_type": "stream",
     "text": [
      "[-50.97171   -12.550868   -3.029262  ...   7.751359    7.8287644\n",
      "  46.770107 ]\n"
     ]
    }
   ],
   "source": [
    "print(np.unique(y_pred))\n"
   ]
  }
 ],
 "metadata": {
  "kernelspec": {
   "display_name": "Python 3 (ipykernel)",
   "language": "python",
   "name": "python3"
  },
  "language_info": {
   "codemirror_mode": {
    "name": "ipython",
    "version": 3
   },
   "file_extension": ".py",
   "mimetype": "text/x-python",
   "name": "python",
   "nbconvert_exporter": "python",
   "pygments_lexer": "ipython3",
   "version": "3.8.16"
  }
 },
 "nbformat": 4,
 "nbformat_minor": 5
}
