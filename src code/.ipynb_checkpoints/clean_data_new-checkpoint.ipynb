{
 "cells": [
  {
   "cell_type": "code",
   "execution_count": 144,
   "id": "91b716c0",
   "metadata": {},
   "outputs": [],
   "source": [
    "import glob\n",
    "import numpy as np\n",
    "csv_files = (glob.glob(\"C:/Users/Vishnu Kumar/Documents/IPL/raw/*info.csv\")) "
   ]
  },
  {
   "cell_type": "code",
   "execution_count": 145,
   "id": "66a8dfbb",
   "metadata": {},
   "outputs": [],
   "source": [
    "import pandas as pd\n",
    "\n",
    "\n",
    "df_append = pd.DataFrame()\n",
    "\n",
    "for file in csv_files:\n",
    "            df_temp = pd.read_csv(file,sep='漢ழ்字', engine='python',header=None)\n",
    "            df_temp['ID'] = file\n",
    "            df_temp = df_temp[(df_temp[0].str.startswith('info,toss_winner')) | (df_temp[0].str.startswith('info,toss_decision'))]\n",
    "            df_append = pd.concat([df_append,df_temp])\n",
    "\n",
    "df_append = df_append.reset_index()\n",
    "df_append[['info', 'attrib','value']] = df_append[0].str.split(\",\", expand = True)\n",
    "df_append = df_append.drop(columns=['index',0,'info'])\n",
    "df_append['ID'] = df_append['ID'].str[40:-9]\n",
    "toss_winner = df_append[df_append['attrib']=='toss_winner'].copy()\n",
    "toss_decision = df_append[df_append['attrib']=='toss_decision'].copy()\n",
    "toss_winner['ID'] = toss_winner['ID'].astype('int')\n",
    "toss_decision['ID'] = toss_decision['ID'].astype('int')"
   ]
  },
  {
   "cell_type": "code",
   "execution_count": 146,
   "id": "3a346861",
   "metadata": {},
   "outputs": [
    {
     "name": "stderr",
     "output_type": "stream",
     "text": [
      "C:\\Users\\Vishnu Kumar\\AppData\\Local\\Temp\\ipykernel_15892\\579395103.py:1: DtypeWarning: Columns (1) have mixed types. Specify dtype option on import or set low_memory=False.\n",
      "  all_matches = pd.read_csv(\"C:/Users/Vishnu Kumar/Documents/IPL/raw/all_matches.csv\")\n"
     ]
    }
   ],
   "source": [
    "all_matches = pd.read_csv(\"C:/Users/Vishnu Kumar/Documents/IPL/raw/all_matches.csv\")\n",
    "# all_matches\n",
    "all_matches = pd.merge(all_matches, toss_winner, how=\"left\" ,left_on = \"match_id\", right_on = \"ID\" )\n",
    "all_matches = all_matches.drop(columns=[\"ID\", \"attrib\"])\n",
    "all_matches = all_matches.rename(columns={\"value\": \"toss_winner\"})\n",
    "all_matches = pd.merge(all_matches, toss_decision, how=\"left\" ,left_on = \"match_id\", right_on = \"ID\" )\n",
    "all_matches = all_matches.drop(columns=[\"ID\", \"attrib\"])\n",
    "all_matches = all_matches.rename(columns={\"value\": \"toss_decision\"})\n",
    "all_matches = all_matches[all_matches['innings']<=2]\n",
    "all_matches['season'] = all_matches['season'].replace(['2007/08', '2009', '2009/10', '2011' ,'2012','2018', '2019', '2020/21', '2021'], [2008,2009,2010,2011,2012,2018,2019,2020,2021])\n",
    "all_matches['toss_win_batting'] = all_matches.apply(lambda x: 1 if x['toss_winner'] == x['batting_team'] else 0, axis=1)\n",
    "all_matches['toss_decision'] = all_matches.apply(lambda x: 1 if x['toss_decision'] == 'bat' else 0, axis=1)\n",
    "all_matches['player_dismissed'] = all_matches.apply(lambda x: 1 if x['player_dismissed'] == x['striker'] else 0, axis=1)\n",
    "all_data = all_matches.copy()\n",
    "# all_matches = pd.concat([all_matches, toss_winner], axis=1, join='outer', join_axes=[match_id,ID])"
   ]
  },
  {
   "cell_type": "code",
   "execution_count": 147,
   "id": "114b020f",
   "metadata": {},
   "outputs": [],
   "source": [
    "all_matches['ball'] = (all_matches['ball'].astype('int')*6)+((all_matches['ball'] - all_matches['ball'].astype('int'))*10)"
   ]
  },
  {
   "cell_type": "code",
   "execution_count": 148,
   "id": "b8b50790",
   "metadata": {},
   "outputs": [],
   "source": [
    "all_matches['wicket'] = all_matches['wicket_type'].notnull().astype(int)"
   ]
  },
  {
   "cell_type": "code",
   "execution_count": 149,
   "id": "df478b5c",
   "metadata": {},
   "outputs": [],
   "source": [
    "all_matches = all_matches.fillna(0)"
   ]
  },
  {
   "cell_type": "code",
   "execution_count": 150,
   "id": "3c2907f8",
   "metadata": {},
   "outputs": [],
   "source": [
    "all_matches['byes'] = all_matches['byes'] + all_matches['legbyes']\n",
    "all_matches['extras'] = all_matches['extras'] - all_matches['byes']"
   ]
  },
  {
   "cell_type": "code",
   "execution_count": 151,
   "id": "dc703812",
   "metadata": {},
   "outputs": [],
   "source": [
    "all_matches = all_matches.drop(columns=['match_id','season','start_date','batting_team','non_striker','bowling_team','innings','player_dismissed','other_wicket_type','toss_winner','toss_decision','toss_win_batting','wides','noballs','legbyes','penalty','other_player_dismissed','wicket_type'])"
   ]
  },
  {
   "cell_type": "code",
   "execution_count": 152,
   "id": "a6fca4ca",
   "metadata": {},
   "outputs": [],
   "source": [
    "# all_matches.info()\n",
    "all_matches['output'] = all_matches.apply(lambda x: 'W' if x['wicket'] == 1 else str(int(x['runs_off_bat'])), axis=1)"
   ]
  },
  {
   "cell_type": "code",
   "execution_count": 153,
   "id": "e1ef400b",
   "metadata": {},
   "outputs": [],
   "source": [
    "all_matches = all_matches.drop(columns=['runs_off_bat','extras','byes','wicket'])"
   ]
  },
  {
   "cell_type": "code",
   "execution_count": 154,
   "id": "b56b3cd2",
   "metadata": {},
   "outputs": [
    {
     "name": "stdout",
     "output_type": "stream",
     "text": [
      "Accuracy: 0.44039947740206825\n"
     ]
    }
   ],
   "source": [
    "import pandas as pd\n",
    "from sklearn.preprocessing import LabelEncoder\n",
    "from sklearn.model_selection import train_test_split\n",
    "from sklearn.metrics import accuracy_score\n",
    "from sklearn.ensemble import GradientBoostingClassifier\n",
    "\n",
    "# Load the dataset into a pandas DataFrame\n",
    "df = all_matches.copy()\n",
    "\n",
    "# Use LabelEncoder to convert categorical variables to numerical variables\n",
    "le = LabelEncoder()\n",
    "df['venue'] = le.fit_transform(df['venue'])\n",
    "df['striker'] = le.fit_transform(df['striker'])\n",
    "df['bowler'] = le.fit_transform(df['bowler'])\n",
    "\n",
    "# Split the dataset into training and testing sets\n",
    "train_df, test_df = train_test_split(df, test_size=0.2)\n",
    "\n",
    "# Create input and output variables for the model\n",
    "X_train = train_df[['venue', 'ball', 'striker', 'bowler']]\n",
    "y_train = train_df['output']\n",
    "\n",
    "X_test = test_df[['venue', 'ball', 'striker', 'bowler']]\n",
    "y_test = test_df['output']\n",
    "\n",
    "# Create and train the Gradient Boosting classifier\n",
    "gb = GradientBoostingClassifier(n_estimators=100)\n",
    "gb.fit(X_train, y_train)\n",
    "\n",
    "# Test the model using the testing data and calculate the accuracy score\n",
    "y_pred = gb.predict(X_test)\n",
    "accuracy = accuracy_score(y_test, y_pred)\n",
    "print(\"Accuracy:\", accuracy)\n"
   ]
  },
  {
   "cell_type": "code",
   "execution_count": 155,
   "id": "ff368b38",
   "metadata": {},
   "outputs": [],
   "source": [
    "X_test['outcome'] = y_pred"
   ]
  },
  {
   "cell_type": "code",
   "execution_count": 156,
   "id": "61774c2d",
   "metadata": {},
   "outputs": [
    {
     "data": {
      "text/plain": [
       "array(['1', '0', '5', 'W', '4', '6', '2'], dtype=object)"
      ]
     },
     "execution_count": 156,
     "metadata": {},
     "output_type": "execute_result"
    }
   ],
   "source": [
    "X_test['outcome'].unique()"
   ]
  },
  {
   "cell_type": "code",
   "execution_count": 157,
   "id": "1d07f906",
   "metadata": {},
   "outputs": [
    {
     "name": "stdout",
     "output_type": "stream",
     "text": [
      "Outcome  0\n",
      "Actual Count 79943 Predicted Count 14819\n",
      "Outcome  4\n",
      "Actual Count 25476 Predicted Count 5\n",
      "Outcome  6\n",
      "Actual Count 10649 Predicted Count 2\n",
      "Outcome  1\n",
      "Actual Count 83548 Predicted Count 30315\n",
      "Outcome  W\n",
      "Actual Count 11124 Predicted Count 5\n",
      "Outcome  2\n",
      "Actual Count 14284 Predicted Count 3\n",
      "Outcome  5\n",
      "Actual Count 61 Predicted Count 10\n",
      "Outcome  3\n",
      "Actual Count 708 Predicted Count 0\n"
     ]
    }
   ],
   "source": [
    "for outcome in df['output'].unique():\n",
    "    print (\"Outcome \", outcome)\n",
    "    \n",
    "    test_slice = df[df[\"output\"] == outcome]\n",
    "    \n",
    "    predicted_slice = X_test[X_test['outcome'] == outcome]\n",
    "    \n",
    "    print (\"Actual Count\", len(test_slice), \"Predicted Count\", len(predicted_slice)) "
   ]
  },
  {
   "cell_type": "code",
   "execution_count": 166,
   "id": "cef02985",
   "metadata": {},
   "outputs": [],
   "source": [
    "predicted = gb.predict_proba(X_test.drop([\"outcome\"], axis=1))"
   ]
  },
  {
   "cell_type": "code",
   "execution_count": 167,
   "id": "7d32ab82",
   "metadata": {},
   "outputs": [],
   "source": [
    "preds = []"
   ]
  },
  {
   "cell_type": "code",
   "execution_count": 168,
   "id": "ec938638",
   "metadata": {},
   "outputs": [],
   "source": [
    "from random import choices\n",
    "\n",
    "for weights in predicted:\n",
    "    outcomes = ['0','1','2','3','4','5','6','W']\n",
    "    # weighted random selection\n",
    "    p = choices(outcomes, weights=weights)\n",
    "\n",
    "    preds.append(p[0])\n"
   ]
  },
  {
   "cell_type": "code",
   "execution_count": 169,
   "id": "2e8ca47b",
   "metadata": {},
   "outputs": [],
   "source": [
    "predicted = X_test.drop([\"outcome\"], axis=1)\n",
    "predicted[\"outcome\"] = preds\n"
   ]
  },
  {
   "cell_type": "code",
   "execution_count": 170,
   "id": "eb75628f",
   "metadata": {},
   "outputs": [
    {
     "name": "stdout",
     "output_type": "stream",
     "text": [
      "Outcome  0\n",
      "Actual Count 79943 Predicted Count 16059\n",
      "Outcome  4\n",
      "Actual Count 25476 Predicted Count 5129\n",
      "Outcome  6\n",
      "Actual Count 10649 Predicted Count 2176\n",
      "Outcome  1\n",
      "Actual Count 83548 Predicted Count 16524\n",
      "Outcome  W\n",
      "Actual Count 11124 Predicted Count 2256\n",
      "Outcome  2\n",
      "Actual Count 14284 Predicted Count 2851\n",
      "Outcome  5\n",
      "Actual Count 61 Predicted Count 20\n",
      "Outcome  3\n",
      "Actual Count 708 Predicted Count 144\n"
     ]
    }
   ],
   "source": [
    "for outcome in df['output'].unique():\n",
    "    print (\"Outcome \", outcome)\n",
    "    \n",
    "    test_slice = df[df[\"output\"] == outcome]\n",
    "    \n",
    "    predicted_slice = predicted[predicted['outcome'] == outcome]\n",
    "    \n",
    "    print (\"Actual Count\", len(test_slice), \"Predicted Count\", len(predicted_slice)) \n"
   ]
  },
  {
   "cell_type": "code",
   "execution_count": 172,
   "id": "30a21e51",
   "metadata": {},
   "outputs": [
    {
     "name": "stderr",
     "output_type": "stream",
     "text": [
      "C:\\ProgramData\\Anaconda3\\lib\\site-packages\\openpyxl\\worksheet\\_read_only.py:79: UserWarning: Data Validation extension is not supported and will be removed\n",
      "  for idx, row in parser.parse():\n",
      "C:\\ProgramData\\Anaconda3\\lib\\site-packages\\openpyxl\\worksheet\\_read_only.py:79: UserWarning: Data Validation extension is not supported and will be removed\n",
      "  for idx, row in parser.parse():\n"
     ]
    }
   ],
   "source": [
    "team1 = pd.read_excel(\"C:/Users/Vishnu Kumar/Documents/IPL/input/team1.xlsx\")\n",
    "team2 = pd.read_excel(\"C:/Users/Vishnu Kumar/Documents/IPL/input/team2.xlsx\")\n",
    "team1['bowl_innings'] = 2\n",
    "team2['bowl_innings'] = 1"
   ]
  },
  {
   "cell_type": "code",
   "execution_count": 173,
   "id": "20496349",
   "metadata": {},
   "outputs": [],
   "source": [
    "first_bowling_order = pd.read_csv('first_bowling_order.csv')\n",
    "second_bowling_order = pd.read_csv('second_bowling_order.csv')"
   ]
  },
  {
   "cell_type": "code",
   "execution_count": 175,
   "id": "3773f4e0",
   "metadata": {},
   "outputs": [],
   "source": [
    "first_bowling_order = first_bowling_order.drop(columns=['Unnamed: 0'])\n",
    "second_bowling_order = second_bowling_order.drop(columns=['Unnamed: 0'])"
   ]
  },
  {
   "cell_type": "code",
   "execution_count": 180,
   "id": "8253054b",
   "metadata": {},
   "outputs": [
    {
     "name": "stdout",
     "output_type": "stream",
     "text": [
      "TA Boult\n"
     ]
    }
   ],
   "source": [
    "batsman_1 = team1.iat[0,0]\n",
    "batsman_2 = team1.iat[1,0]\n",
    "run = 0\n",
    "wicket = 0\n",
    "ground = ''\n",
    "\n",
    "\n",
    "for index,row in first_bowling_order.iterrows():\n",
    "    \n",
    "    print(row[0])\n",
    "    break"
   ]
  },
  {
   "cell_type": "code",
   "execution_count": 186,
   "id": "fba187d2",
   "metadata": {},
   "outputs": [
    {
     "data": {
      "text/plain": [
       "'JC Buttler'"
      ]
     },
     "execution_count": 186,
     "metadata": {},
     "output_type": "execute_result"
    }
   ],
   "source": [
    "team1.iat[1,0]"
   ]
  },
  {
   "cell_type": "code",
   "execution_count": 185,
   "id": "b16b6183",
   "metadata": {},
   "outputs": [
    {
     "data": {
      "text/html": [
       "<div>\n",
       "<style scoped>\n",
       "    .dataframe tbody tr th:only-of-type {\n",
       "        vertical-align: middle;\n",
       "    }\n",
       "\n",
       "    .dataframe tbody tr th {\n",
       "        vertical-align: top;\n",
       "    }\n",
       "\n",
       "    .dataframe thead th {\n",
       "        text-align: right;\n",
       "    }\n",
       "</style>\n",
       "<table border=\"1\" class=\"dataframe\">\n",
       "  <thead>\n",
       "    <tr style=\"text-align: right;\">\n",
       "      <th></th>\n",
       "      <th>Team1</th>\n",
       "      <th>bowl_innings</th>\n",
       "    </tr>\n",
       "  </thead>\n",
       "  <tbody>\n",
       "    <tr>\n",
       "      <th>0</th>\n",
       "      <td>YBK Jaiswal</td>\n",
       "      <td>2</td>\n",
       "    </tr>\n",
       "    <tr>\n",
       "      <th>1</th>\n",
       "      <td>JC Buttler</td>\n",
       "      <td>2</td>\n",
       "    </tr>\n",
       "    <tr>\n",
       "      <th>2</th>\n",
       "      <td>SV Samson</td>\n",
       "      <td>2</td>\n",
       "    </tr>\n",
       "    <tr>\n",
       "      <th>3</th>\n",
       "      <td>D Padikkal</td>\n",
       "      <td>2</td>\n",
       "    </tr>\n",
       "    <tr>\n",
       "      <th>4</th>\n",
       "      <td>SO Hetmyer</td>\n",
       "      <td>2</td>\n",
       "    </tr>\n",
       "    <tr>\n",
       "      <th>5</th>\n",
       "      <td>R Ashwin</td>\n",
       "      <td>2</td>\n",
       "    </tr>\n",
       "    <tr>\n",
       "      <th>6</th>\n",
       "      <td>R Parag</td>\n",
       "      <td>2</td>\n",
       "    </tr>\n",
       "    <tr>\n",
       "      <th>7</th>\n",
       "      <td>TA Boult</td>\n",
       "      <td>2</td>\n",
       "    </tr>\n",
       "    <tr>\n",
       "      <th>8</th>\n",
       "      <td>OC McCoy</td>\n",
       "      <td>2</td>\n",
       "    </tr>\n",
       "    <tr>\n",
       "      <th>9</th>\n",
       "      <td>M Prasidh Krishna</td>\n",
       "      <td>2</td>\n",
       "    </tr>\n",
       "    <tr>\n",
       "      <th>10</th>\n",
       "      <td>YS Chahal</td>\n",
       "      <td>2</td>\n",
       "    </tr>\n",
       "  </tbody>\n",
       "</table>\n",
       "</div>"
      ],
      "text/plain": [
       "                Team1  bowl_innings\n",
       "0         YBK Jaiswal             2\n",
       "1          JC Buttler             2\n",
       "2           SV Samson             2\n",
       "3          D Padikkal             2\n",
       "4          SO Hetmyer             2\n",
       "5            R Ashwin             2\n",
       "6             R Parag             2\n",
       "7            TA Boult             2\n",
       "8            OC McCoy             2\n",
       "9   M Prasidh Krishna             2\n",
       "10          YS Chahal             2"
      ]
     },
     "execution_count": 185,
     "metadata": {},
     "output_type": "execute_result"
    }
   ],
   "source": [
    "team1"
   ]
  }
 ],
 "metadata": {
  "kernelspec": {
   "display_name": "Python 3 (ipykernel)",
   "language": "python",
   "name": "python3"
  },
  "language_info": {
   "codemirror_mode": {
    "name": "ipython",
    "version": 3
   },
   "file_extension": ".py",
   "mimetype": "text/x-python",
   "name": "python",
   "nbconvert_exporter": "python",
   "pygments_lexer": "ipython3",
   "version": "3.8.16"
  }
 },
 "nbformat": 4,
 "nbformat_minor": 5
}
