{
 "cells": [
  {
   "cell_type": "code",
   "execution_count": 1,
   "id": "68ee8af5",
   "metadata": {},
   "outputs": [],
   "source": [
    "import glob\n",
    "import numpy as np\n",
    "csv_files = (glob.glob(\"C:/Users/Vishnu Kumar/Documents/IPL/raw/*info.csv\")) "
   ]
  },
  {
   "cell_type": "code",
   "execution_count": 25,
   "id": "6c177c1e",
   "metadata": {},
   "outputs": [],
   "source": [
    "import pandas as pd\n",
    "\n",
    "\n",
    "df_append = pd.DataFrame()\n",
    "\n",
    "for file in csv_files:\n",
    "            df_temp = pd.read_csv(file,sep='漢ழ்字', engine='python',header=None)\n",
    "            df_temp['ID'] = file\n",
    "            df_temp = df_temp[(df_temp[0].str.startswith('info,toss_winner')) | (df_temp[0].str.startswith('info,toss_decision'))]\n",
    "            df_append = pd.concat([df_append,df_temp])\n",
    "\n",
    "df_append = df_append.reset_index()\n",
    "df_append[['info', 'attrib','value']] = df_append[0].str.split(\",\", expand = True)\n",
    "df_append = df_append.drop(columns=['index',0,'info'])\n",
    "df_append['ID'] = df_append['ID'].str[40:-9]\n",
    "toss_winner = df_append[df_append['attrib']=='toss_winner'].copy()\n",
    "toss_decision = df_append[df_append['attrib']=='toss_decision'].copy()\n",
    "toss_winner['ID'] = toss_winner['ID'].astype('int')\n",
    "toss_decision['ID'] = toss_decision['ID'].astype('int')"
   ]
  },
  {
   "cell_type": "code",
   "execution_count": 26,
   "id": "99487510",
   "metadata": {},
   "outputs": [
    {
     "name": "stderr",
     "output_type": "stream",
     "text": [
      "C:\\Users\\Vishnu Kumar\\AppData\\Local\\Temp\\ipykernel_21512\\579395103.py:1: DtypeWarning: Columns (1) have mixed types. Specify dtype option on import or set low_memory=False.\n",
      "  all_matches = pd.read_csv(\"C:/Users/Vishnu Kumar/Documents/IPL/raw/all_matches.csv\")\n"
     ]
    }
   ],
   "source": [
    "all_matches = pd.read_csv(\"C:/Users/Vishnu Kumar/Documents/IPL/raw/all_matches.csv\")\n",
    "# all_matches\n",
    "all_matches = pd.merge(all_matches, toss_winner, how=\"left\" ,left_on = \"match_id\", right_on = \"ID\" )\n",
    "all_matches = all_matches.drop(columns=[\"ID\", \"attrib\"])\n",
    "all_matches = all_matches.rename(columns={\"value\": \"toss_winner\"})\n",
    "all_matches = pd.merge(all_matches, toss_decision, how=\"left\" ,left_on = \"match_id\", right_on = \"ID\" )\n",
    "all_matches = all_matches.drop(columns=[\"ID\", \"attrib\"])\n",
    "all_matches = all_matches.rename(columns={\"value\": \"toss_decision\"})\n",
    "all_matches = all_matches[all_matches['innings']<=2]\n",
    "all_matches['season'] = all_matches['season'].replace(['2007/08', '2009', '2009/10', '2011' ,'2012','2018', '2019', '2020/21', '2021'], [2008,2009,2010,2011,2012,2018,2019,2020,2021])\n",
    "all_matches['toss_win_batting'] = all_matches.apply(lambda x: 1 if x['toss_winner'] == x['batting_team'] else 0, axis=1)\n",
    "all_matches['toss_decision'] = all_matches.apply(lambda x: 1 if x['toss_decision'] == 'bat' else 0, axis=1)\n",
    "all_matches['player_dismissed'] = all_matches.apply(lambda x: 1 if x['player_dismissed'] == x['striker'] else 0, axis=1)\n",
    "all_data = all_matches.copy()\n",
    "# all_matches = pd.concat([all_matches, toss_winner], axis=1, join='outer', join_axes=[match_id,ID])"
   ]
  },
  {
   "cell_type": "code",
   "execution_count": 4,
   "id": "6fb7e8b9",
   "metadata": {},
   "outputs": [],
   "source": [
    "all_matches['ball'] = (all_matches['ball'].astype('int')*6)+((all_matches['ball'] - all_matches['ball'].astype('int'))*10)"
   ]
  },
  {
   "cell_type": "code",
   "execution_count": 5,
   "id": "2ea80263",
   "metadata": {},
   "outputs": [],
   "source": [
    "venue = pd.read_excel(r\"C:\\Users\\Vishnu Kumar\\Documents\\IPL\\LU\\venue.xlsx\")\n",
    "all_matches = pd.merge(all_matches, venue, how=\"left\" ,left_on = \"venue\", right_on = \"key\" )\n",
    "all_matches = all_matches.drop(columns=[\"key\", \"filter name\",\"Bit\"])\n",
    "# all_matches"
   ]
  },
  {
   "cell_type": "code",
   "execution_count": 6,
   "id": "02bca85e",
   "metadata": {},
   "outputs": [],
   "source": [
    "team = pd.read_excel(r\"C:\\Users\\Vishnu Kumar\\Documents\\IPL\\LU\\team.xlsx\")\n",
    "all_matches = pd.merge(all_matches, team, how=\"left\" ,left_on = \"batting_team\", right_on = \"key\" )\n",
    "all_matches = all_matches.drop(columns=[\"key\", \"filter name\",\"Bit\"])\n",
    "# all_matches"
   ]
  },
  {
   "cell_type": "code",
   "execution_count": 7,
   "id": "98c7d336",
   "metadata": {},
   "outputs": [],
   "source": [
    "team2 = pd.read_excel(r\"C:\\Users\\Vishnu Kumar\\Documents\\IPL\\LU\\team2.xlsx\")\n",
    "all_matches = pd.merge(all_matches, team2, how=\"left\" ,left_on = \"bowling_team\", right_on = \"key\" )\n",
    "all_matches = all_matches.drop(columns=[\"key\", \"filter name\",\"Bit\"])\n",
    "# all_matches"
   ]
  },
  {
   "cell_type": "code",
   "execution_count": 8,
   "id": "22fe4189",
   "metadata": {},
   "outputs": [],
   "source": [
    "player = pd.read_excel(r\"C:\\Users\\Vishnu Kumar\\Documents\\IPL\\LU\\player.xlsx\")\n",
    "player = player.rename(columns={\"player1\": \"striker1\",\"player2\": \"striker2\",\"player3\": \"striker3\",\"player4\": \"striker4\",\"player5\": \"striker5\",\"player6\": \"striker6\",\"player7\": \"striker7\",\"player8\": \"striker8\",\"player9\": \"striker9\",\"player10\": \"striker10\"})\n",
    "all_matches = pd.merge(all_matches, player, how=\"left\" ,left_on = \"striker\", right_on = \"key\" )\n",
    "all_matches = all_matches.drop(columns=[\"key\", \"filter name\",\"bit\"])\n",
    "# all_matches"
   ]
  },
  {
   "cell_type": "code",
   "execution_count": 9,
   "id": "f18e6fa5",
   "metadata": {},
   "outputs": [],
   "source": [
    "player = pd.read_excel(r\"C:\\Users\\Vishnu Kumar\\Documents\\IPL\\LU\\player.xlsx\")\n",
    "player = player.rename(columns={\"player1\": \"non_striker1\",\"player2\": \"non_striker2\",\"player3\": \"non_striker3\",\"player4\": \"non_striker4\",\"player5\": \"non_striker5\",\"player6\": \"non_striker6\",\"player7\": \"non_striker7\",\"player8\": \"non_striker8\",\"player9\": \"non_striker9\",\"player10\": \"non_striker10\"})\n",
    "all_matches = pd.merge(all_matches, player, how=\"left\" ,left_on = \"non_striker\", right_on = \"key\" )\n",
    "all_matches = all_matches.drop(columns=[\"key\", \"filter name\",\"bit\"])\n",
    "# all_matches"
   ]
  },
  {
   "cell_type": "code",
   "execution_count": 10,
   "id": "37df2b3d",
   "metadata": {},
   "outputs": [],
   "source": [
    "player = pd.read_excel(r\"C:\\Users\\Vishnu Kumar\\Documents\\IPL\\LU\\player.xlsx\")\n",
    "player = player.rename(columns={\"player1\": \"bowler1\",\"player2\": \"bowler2\",\"player3\": \"bowler3\",\"player4\": \"bowler4\",\"player5\": \"bowler5\",\"player6\": \"bowler6\",\"player7\": \"bowler7\",\"player8\": \"bowler8\",\"player9\": \"bowler9\",\"player10\": \"bowler10\"})\n",
    "all_matches = pd.merge(all_matches, player, how=\"left\" ,left_on = \"bowler\", right_on = \"key\" )\n",
    "all_matches = all_matches.drop(columns=[\"key\", \"filter name\",\"bit\"])\n",
    "# all_matches"
   ]
  },
  {
   "cell_type": "code",
   "execution_count": 11,
   "id": "6e22ad76",
   "metadata": {},
   "outputs": [],
   "source": [
    "wicket = pd.read_excel(r\"C:\\Users\\Vishnu Kumar\\Documents\\IPL\\LU\\wicket.xlsx\")\n",
    "# player = player.rename(columns={\"player1\": \"bowler1\",\"player2\": \"bowler2\",\"player3\": \"bowler3\",\"player4\": \"bowler4\",\"player5\": \"bowler5\",\"player6\": \"bowler6\",\"player7\": \"bowler7\",\"player8\": \"bowler8\",\"player9\": \"bowler9\",\"player10\": \"bowler10\"})\n",
    "all_matches = pd.merge(all_matches, wicket, how=\"left\" ,left_on = \"wicket_type\", right_on = \"key\" )\n",
    "all_matches = all_matches.drop(columns=[\"key\", \"filter name\",\"bit\"])\n",
    "# all_matches"
   ]
  },
  {
   "cell_type": "code",
   "execution_count": 12,
   "id": "8775eb0a",
   "metadata": {},
   "outputs": [
    {
     "name": "stderr",
     "output_type": "stream",
     "text": [
      "C:\\Users\\Vishnu Kumar\\AppData\\Local\\Temp\\ipykernel_6756\\105967443.py:4: SettingWithCopyWarning: \n",
      "A value is trying to be set on a copy of a slice from a DataFrame\n",
      "\n",
      "See the caveats in the documentation: https://pandas.pydata.org/pandas-docs/stable/user_guide/indexing.html#returning-a-view-versus-a-copy\n",
      "  all_matches['wic'][index] = temp['wicket_type'].count()\n"
     ]
    }
   ],
   "source": [
    "all_matches['wic'] = 0\n",
    "for index,row in all_matches.iterrows():\n",
    "    temp = all_matches[(all_matches['match_id']==all_matches['match_id'][index]) & (all_matches['innings']==all_matches['innings'][index]) & (all_matches['ball']<all_matches['ball'][index])]\n",
    "    all_matches['wic'][index] = temp['wicket_type'].count()\n"
   ]
  },
  {
   "cell_type": "code",
   "execution_count": 13,
   "id": "657e48a8",
   "metadata": {},
   "outputs": [],
   "source": [
    "all_matches = all_matches.fillna(0)"
   ]
  },
  {
   "cell_type": "code",
   "execution_count": 14,
   "id": "1831228e",
   "metadata": {},
   "outputs": [
    {
     "name": "stderr",
     "output_type": "stream",
     "text": [
      "C:\\Users\\Vishnu Kumar\\AppData\\Local\\Temp\\ipykernel_6756\\395309427.py:5: SettingWithCopyWarning: \n",
      "A value is trying to be set on a copy of a slice from a DataFrame\n",
      "\n",
      "See the caveats in the documentation: https://pandas.pydata.org/pandas-docs/stable/user_guide/indexing.html#returning-a-view-versus-a-copy\n",
      "  all_matches['target'][index] = temp['runs_off_bat'].sum()+temp['extras'].sum()\n"
     ]
    }
   ],
   "source": [
    "all_matches['target'] = 0\n",
    "for index,row in all_matches.iterrows():\n",
    "    if all_matches['innings'][index]==2:\n",
    "        temp = all_matches[(all_matches['match_id']==all_matches['match_id'][index]) & (all_matches['innings']==1)]\n",
    "        all_matches['target'][index] = temp['runs_off_bat'].sum()+temp['extras'].sum()\n"
   ]
  },
  {
   "cell_type": "code",
   "execution_count": 15,
   "id": "b1ed8bbf",
   "metadata": {},
   "outputs": [],
   "source": [
    "all_matches['byes'] = all_matches['byes'] + all_matches['legbyes']\n",
    "all_matches['extras'] = all_matches['extras'] - all_matches['byes']"
   ]
  },
  {
   "cell_type": "code",
   "execution_count": 16,
   "id": "a5657fd9",
   "metadata": {},
   "outputs": [],
   "source": [
    "all_matches = all_matches.drop(columns=['venue','match_id','start_date','batting_team','bowling_team','striker','non_striker','bowler','wides','noballs','legbyes','penalty','wicket_type','other_wicket_type','other_player_dismissed','toss_winner'])"
   ]
  },
  {
   "cell_type": "code",
   "execution_count": 17,
   "id": "3252492c",
   "metadata": {},
   "outputs": [
    {
     "name": "stdout",
     "output_type": "stream",
     "text": [
      "Epoch 1/50\n",
      "5645/5645 [==============================] - 18s 3ms/step - loss: 0.3988 - val_loss: 0.3458\n",
      "Epoch 2/50\n",
      "5645/5645 [==============================] - 16s 3ms/step - loss: 0.3474 - val_loss: 0.3440\n",
      "Epoch 3/50\n",
      "5645/5645 [==============================] - 17s 3ms/step - loss: 0.3459 - val_loss: 0.3439\n",
      "Epoch 4/50\n",
      "5645/5645 [==============================] - 16s 3ms/step - loss: 0.3452 - val_loss: 0.3434\n",
      "Epoch 5/50\n",
      "5645/5645 [==============================] - 17s 3ms/step - loss: 0.3447 - val_loss: 0.3434\n",
      "Epoch 6/50\n",
      "5645/5645 [==============================] - 16s 3ms/step - loss: 0.3443 - val_loss: 0.3431\n",
      "Epoch 7/50\n",
      "5645/5645 [==============================] - 16s 3ms/step - loss: 0.3441 - val_loss: 0.3427\n",
      "Epoch 8/50\n",
      "5645/5645 [==============================] - 16s 3ms/step - loss: 0.3436 - val_loss: 0.3428\n",
      "Epoch 9/50\n",
      "5645/5645 [==============================] - 16s 3ms/step - loss: 0.3434 - val_loss: 0.3431\n",
      "Epoch 10/50\n",
      "5645/5645 [==============================] - 16s 3ms/step - loss: 0.3432 - val_loss: 0.3427\n",
      "Epoch 11/50\n",
      "5645/5645 [==============================] - 16s 3ms/step - loss: 0.3428 - val_loss: 0.3425\n",
      "Epoch 12/50\n",
      "5645/5645 [==============================] - 17s 3ms/step - loss: 0.3427 - val_loss: 0.3424\n",
      "Epoch 13/50\n",
      "5645/5645 [==============================] - 17s 3ms/step - loss: 0.3427 - val_loss: 0.3426\n",
      "Epoch 14/50\n",
      "5645/5645 [==============================] - 16s 3ms/step - loss: 0.3423 - val_loss: 0.3425\n",
      "Epoch 15/50\n",
      "5645/5645 [==============================] - 16s 3ms/step - loss: 0.3422 - val_loss: 0.3425\n",
      "Epoch 16/50\n",
      "5645/5645 [==============================] - 17s 3ms/step - loss: 0.3421 - val_loss: 0.3428\n",
      "Epoch 17/50\n",
      "5645/5645 [==============================] - 23s 4ms/step - loss: 0.3420 - val_loss: 0.3424\n",
      "Epoch 18/50\n",
      "5645/5645 [==============================] - 15s 3ms/step - loss: 0.3420 - val_loss: 0.3425\n",
      "Epoch 19/50\n",
      "5645/5645 [==============================] - 16s 3ms/step - loss: 0.3419 - val_loss: 0.3423\n",
      "Epoch 20/50\n",
      "5645/5645 [==============================] - 16s 3ms/step - loss: 0.3417 - val_loss: 0.3427\n",
      "Epoch 21/50\n",
      "5645/5645 [==============================] - 15s 3ms/step - loss: 0.3419 - val_loss: 0.3425\n",
      "Epoch 22/50\n",
      "5645/5645 [==============================] - 15s 3ms/step - loss: 0.3417 - val_loss: 0.3424\n",
      "Epoch 23/50\n",
      "5645/5645 [==============================] - 15s 3ms/step - loss: 0.3412 - val_loss: 0.3425\n",
      "Epoch 24/50\n",
      "5645/5645 [==============================] - 15s 3ms/step - loss: 0.3410 - val_loss: 0.3427\n",
      "Epoch 25/50\n",
      "5645/5645 [==============================] - 16s 3ms/step - loss: 0.3412 - val_loss: 0.3424\n",
      "Epoch 26/50\n",
      "5645/5645 [==============================] - 16s 3ms/step - loss: 0.3411 - val_loss: 0.3422\n",
      "Epoch 27/50\n",
      "5645/5645 [==============================] - 16s 3ms/step - loss: 0.3412 - val_loss: 0.3423\n",
      "Epoch 28/50\n",
      "5645/5645 [==============================] - 17s 3ms/step - loss: 0.3407 - val_loss: 0.3430\n",
      "Epoch 29/50\n",
      "5645/5645 [==============================] - 16s 3ms/step - loss: 0.3411 - val_loss: 0.3425\n",
      "Epoch 30/50\n",
      "5645/5645 [==============================] - 15s 3ms/step - loss: 0.3408 - val_loss: 0.3425\n",
      "Epoch 31/50\n",
      "5645/5645 [==============================] - 17s 3ms/step - loss: 0.3407 - val_loss: 0.3426\n",
      "Epoch 32/50\n",
      "5645/5645 [==============================] - 17s 3ms/step - loss: 0.3406 - val_loss: 0.3429\n",
      "Epoch 33/50\n",
      "5645/5645 [==============================] - 16s 3ms/step - loss: 0.3407 - val_loss: 0.3427\n",
      "Epoch 34/50\n",
      "5645/5645 [==============================] - 16s 3ms/step - loss: 0.3406 - val_loss: 0.3427\n",
      "Epoch 35/50\n",
      "5645/5645 [==============================] - 15s 3ms/step - loss: 0.3403 - val_loss: 0.3431\n",
      "Epoch 36/50\n",
      "5645/5645 [==============================] - 15s 3ms/step - loss: 0.3403 - val_loss: 0.3429\n",
      "Epoch 37/50\n",
      "5645/5645 [==============================] - 15s 3ms/step - loss: 0.3403 - val_loss: 0.3428\n",
      "Epoch 38/50\n",
      "5645/5645 [==============================] - 16s 3ms/step - loss: 0.3402 - val_loss: 0.3429\n",
      "Epoch 39/50\n",
      "5645/5645 [==============================] - 16s 3ms/step - loss: 0.3402 - val_loss: 0.3427\n",
      "Epoch 40/50\n",
      "5645/5645 [==============================] - 16s 3ms/step - loss: 0.3404 - val_loss: 0.3427\n",
      "Epoch 41/50\n",
      "5645/5645 [==============================] - 16s 3ms/step - loss: 0.3399 - val_loss: 0.3425\n",
      "Epoch 42/50\n",
      "5645/5645 [==============================] - 15s 3ms/step - loss: 0.3401 - val_loss: 0.3428\n",
      "Epoch 43/50\n",
      "5645/5645 [==============================] - 15s 3ms/step - loss: 0.3399 - val_loss: 0.3427\n",
      "Epoch 44/50\n",
      "5645/5645 [==============================] - 15s 3ms/step - loss: 0.3399 - val_loss: 0.3428\n",
      "Epoch 45/50\n",
      "5645/5645 [==============================] - 15s 3ms/step - loss: 0.3401 - val_loss: 0.3429\n",
      "Epoch 46/50\n",
      "5645/5645 [==============================] - 20s 3ms/step - loss: 0.3398 - val_loss: 0.3426\n",
      "Epoch 47/50\n",
      "5645/5645 [==============================] - 15s 3ms/step - loss: 0.3398 - val_loss: 0.3427\n",
      "Epoch 48/50\n",
      "5645/5645 [==============================] - 16s 3ms/step - loss: 0.3398 - val_loss: 0.3430\n",
      "Epoch 49/50\n",
      "5645/5645 [==============================] - 17s 3ms/step - loss: 0.3397 - val_loss: 0.3427\n",
      "Epoch 50/50\n",
      "5645/5645 [==============================] - 16s 3ms/step - loss: 0.3398 - val_loss: 0.3427\n",
      "1412/1412 [==============================] - 2s 2ms/step - loss: 0.3427\n",
      "Test loss: 0.34274572134017944\n"
     ]
    }
   ],
   "source": [
    "import pandas as pd\n",
    "from sklearn.model_selection import train_test_split\n",
    "from sklearn.preprocessing import StandardScaler\n",
    "from keras.models import Sequential\n",
    "from keras.layers import Dense, BatchNormalization, Dropout\n",
    "\n",
    "# Load the cricket data into a Pandas DataFrame\n",
    "df = all_matches.copy()\n",
    "\n",
    "# Split the data into input features and output variables\n",
    "X = df.drop(['runs_off_bat', 'extras','byes','player_dismissed','wicket1','wicket2','wicket3','wicket4'], axis=1)\n",
    "y = df[['runs_off_bat', 'extras','byes','player_dismissed','wicket1','wicket2','wicket3','wicket4']]\n",
    "\n",
    "# Split the data into training and testing sets\n",
    "X_train, X_test, y_train, y_test = train_test_split(X, y, test_size=0.2, random_state=42)\n",
    "\n",
    "# Normalize the input data\n",
    "scaler = StandardScaler()\n",
    "X_train_scaled = scaler.fit_transform(X_train)\n",
    "X_test_scaled = scaler.transform(X_test)\n",
    "\n",
    "# Define the model architecture\n",
    "model = Sequential()\n",
    "model.add(Dense(64, input_shape=(X_train.shape[1],), activation='relu'))\n",
    "model.add(BatchNormalization())\n",
    "model.add(Dropout(0.2))\n",
    "model.add(Dense(32, activation='relu'))\n",
    "model.add(BatchNormalization())\n",
    "model.add(Dropout(0.2))\n",
    "model.add(Dense(8, activation='linear'))\n",
    "\n",
    "# Compile the model\n",
    "model.compile(loss='mean_squared_error', optimizer='adam')\n",
    "\n",
    "# Train the model\n",
    "model.fit(X_train_scaled, y_train, epochs=50, batch_size=32, validation_data=(X_test_scaled, y_test))\n",
    "\n",
    "# Evaluate the model\n",
    "score = model.evaluate(X_test_scaled, y_test)\n",
    "print('Test loss:', score)\n"
   ]
  },
  {
   "cell_type": "code",
   "execution_count": 27,
   "id": "46fb96c3",
   "metadata": {},
   "outputs": [],
   "source": [
    "all_for_bowlers = all_data.copy()\n",
    "all_for_bowlers['ball'] = (all_for_bowlers['ball'].apply(np.floor))+1\n",
    "all_for_bowlers = all_for_bowlers.drop(columns=['start_date','striker','non_striker','runs_off_bat','extras','wides','noballs','byes','legbyes','penalty','wicket_type','player_dismissed','other_wicket_type','other_player_dismissed'])\n",
    "all_for_bowlers['over1'] = all_for_bowlers.apply(lambda x: 1 if x['ball'] == 1 else 0, axis=1)\n",
    "all_for_bowlers['over2'] = all_for_bowlers.apply(lambda x: 1 if x['ball'] == 2 else 0, axis=1)\n",
    "all_for_bowlers['over3'] = all_for_bowlers.apply(lambda x: 1 if x['ball'] == 3 else 0, axis=1)\n",
    "all_for_bowlers['over4'] = all_for_bowlers.apply(lambda x: 1 if x['ball'] == 4 else 0, axis=1)\n",
    "all_for_bowlers['over5'] = all_for_bowlers.apply(lambda x: 1 if x['ball'] == 5 else 0, axis=1)\n",
    "all_for_bowlers['over6'] = all_for_bowlers.apply(lambda x: 1 if x['ball'] == 6 else 0, axis=1)\n",
    "all_for_bowlers['over7'] = all_for_bowlers.apply(lambda x: 1 if x['ball'] == 7 else 0, axis=1)\n",
    "all_for_bowlers['over8'] = all_for_bowlers.apply(lambda x: 1 if x['ball'] == 8 else 0, axis=1)\n",
    "all_for_bowlers['over9'] = all_for_bowlers.apply(lambda x: 1 if x['ball'] == 9 else 0, axis=1)\n",
    "all_for_bowlers['over10'] = all_for_bowlers.apply(lambda x: 1 if x['ball'] == 10 else 0, axis=1)\n",
    "all_for_bowlers['over11'] = all_for_bowlers.apply(lambda x: 1 if x['ball'] == 11 else 0, axis=1)\n",
    "all_for_bowlers['over12'] = all_for_bowlers.apply(lambda x: 1 if x['ball'] == 12 else 0, axis=1)\n",
    "all_for_bowlers['over13'] = all_for_bowlers.apply(lambda x: 1 if x['ball'] == 13 else 0, axis=1)\n",
    "all_for_bowlers['over14'] = all_for_bowlers.apply(lambda x: 1 if x['ball'] == 14 else 0, axis=1)\n",
    "all_for_bowlers['over15'] = all_for_bowlers.apply(lambda x: 1 if x['ball'] == 15 else 0, axis=1)\n",
    "all_for_bowlers['over16'] = all_for_bowlers.apply(lambda x: 1 if x['ball'] == 16 else 0, axis=1)\n",
    "all_for_bowlers['over17'] = all_for_bowlers.apply(lambda x: 1 if x['ball'] == 17 else 0, axis=1)\n",
    "all_for_bowlers['over18'] = all_for_bowlers.apply(lambda x: 1 if x['ball'] == 18 else 0, axis=1)\n",
    "all_for_bowlers['over19'] = all_for_bowlers.apply(lambda x: 1 if x['ball'] == 19 else 0, axis=1)\n",
    "all_for_bowlers['over20'] = all_for_bowlers.apply(lambda x: 1 if x['ball'] == 20 else 0, axis=1)\n",
    "# all_for_bowlers"
   ]
  },
  {
   "cell_type": "code",
   "execution_count": 28,
   "id": "f8e0dc5d",
   "metadata": {},
   "outputs": [],
   "source": [
    "all_for_bowlers = pd.pivot_table(all_for_bowlers, values =['over1','over2','over3','over4','over5','over6','over7','over8','over9','over10','over11','over12','over13','over14','over15','over16','over17','over18','over19','over20'], index =['match_id', 'season','venue','innings','batting_team','bowling_team','bowler','toss_winner','toss_decision','toss_win_batting'], aggfunc = np.max).reset_index()\n",
    "all_for_bowlers = pd.pivot_table(all_for_bowlers, values=['over1','over2','over3','over4','over5','over6','over7','over8','over9','over10','over11','over12','over13','over14','over15','over16','over17','over18','over19','over20'], index=['innings','bowler'], aggfunc=np.sum).reset_index()"
   ]
  },
  {
   "cell_type": "code",
   "execution_count": 29,
   "id": "bc903640",
   "metadata": {},
   "outputs": [],
   "source": [
    "innings_detail = pd.pivot_table(all_data,values='ball',index=['match_id','innings','bowling_team']).reset_index()\n",
    "innings_detail = innings_detail.drop(columns = ['ball'])"
   ]
  },
  {
   "cell_type": "code",
   "execution_count": 30,
   "id": "842fbc37",
   "metadata": {},
   "outputs": [],
   "source": [
    "df_append = pd.DataFrame()\n",
    "\n",
    "for file in csv_files:\n",
    "            df_temp = pd.read_csv(file,sep='漢ழ்字', engine='python',header=None)\n",
    "            df_temp['ID'] = file\n",
    "            df_temp = df_temp[(df_temp[0].str.startswith('info,player,'))]\n",
    "            df_append = pd.concat([df_append,df_temp])\n",
    "df_append = df_append.reset_index()\n",
    "df_append[['info', 'play','team','player']] = df_append[0].str.split(\",\", expand = True)\n",
    "df_append = df_append.drop(columns=['index',0,'info','play'])\n",
    "df_append['ID'] = df_append['ID'].str[40:-9].astype('int')\n",
    "player_list = pd.merge(df_append, innings_detail, how=\"left\" ,left_on = ['ID','team'], right_on = ['match_id','bowling_team'] )\n",
    "player_list = player_list.drop(columns=['match_id','bowling_team'])"
   ]
  },
  {
   "cell_type": "code",
   "execution_count": 31,
   "id": "e1bcbd42",
   "metadata": {},
   "outputs": [],
   "source": [
    "player_list = pd.pivot_table(player_list, values='team', index=['player','innings'], aggfunc='count').reset_index()"
   ]
  },
  {
   "cell_type": "code",
   "execution_count": 32,
   "id": "ce2e30ca",
   "metadata": {},
   "outputs": [],
   "source": [
    "all_for_bowlers = pd.merge(all_for_bowlers,player_list,how = 'left', left_on=['innings','bowler'], right_on=['innings','player'])"
   ]
  },
  {
   "cell_type": "code",
   "execution_count": 33,
   "id": "13ed23bb",
   "metadata": {},
   "outputs": [],
   "source": [
    "all_for_bowlers = all_for_bowlers.drop(columns=['player'])\n",
    "all_for_bowlers = all_for_bowlers.rename(columns={\"team\": \"no_of_matches\"})\n",
    "all_for_bowlers['over1'] = all_for_bowlers['over1']/all_for_bowlers['no_of_matches']\n",
    "all_for_bowlers['over2'] = all_for_bowlers['over2']/all_for_bowlers['no_of_matches']\n",
    "all_for_bowlers['over3'] = all_for_bowlers['over3']/all_for_bowlers['no_of_matches']\n",
    "all_for_bowlers['over4'] = all_for_bowlers['over4']/all_for_bowlers['no_of_matches']\n",
    "all_for_bowlers['over5'] = all_for_bowlers['over5']/all_for_bowlers['no_of_matches']\n",
    "all_for_bowlers['over6'] = all_for_bowlers['over6']/all_for_bowlers['no_of_matches']\n",
    "all_for_bowlers['over7'] = all_for_bowlers['over7']/all_for_bowlers['no_of_matches']\n",
    "all_for_bowlers['over8'] = all_for_bowlers['over8']/all_for_bowlers['no_of_matches']\n",
    "all_for_bowlers['over9'] = all_for_bowlers['over9']/all_for_bowlers['no_of_matches']\n",
    "all_for_bowlers['over10'] = all_for_bowlers['over10']/all_for_bowlers['no_of_matches']\n",
    "all_for_bowlers['over11'] = all_for_bowlers['over11']/all_for_bowlers['no_of_matches']\n",
    "all_for_bowlers['over12'] = all_for_bowlers['over12']/all_for_bowlers['no_of_matches']\n",
    "all_for_bowlers['over13'] = all_for_bowlers['over13']/all_for_bowlers['no_of_matches']\n",
    "all_for_bowlers['over14'] = all_for_bowlers['over14']/all_for_bowlers['no_of_matches']\n",
    "all_for_bowlers['over15'] = all_for_bowlers['over15']/all_for_bowlers['no_of_matches']\n",
    "all_for_bowlers['over16'] = all_for_bowlers['over16']/all_for_bowlers['no_of_matches']\n",
    "all_for_bowlers['over17'] = all_for_bowlers['over17']/all_for_bowlers['no_of_matches']\n",
    "all_for_bowlers['over18'] = all_for_bowlers['over18']/all_for_bowlers['no_of_matches']\n",
    "all_for_bowlers['over19'] = all_for_bowlers['over19']/all_for_bowlers['no_of_matches']\n",
    "all_for_bowlers['over20'] = all_for_bowlers['over20']/all_for_bowlers['no_of_matches']\n",
    "all_for_bowlers['overs_per_match'] = 0\n",
    "for i in range(1, 21):\n",
    "    all_for_bowlers['overs_per_match'] += all_for_bowlers[f'over{i}']"
   ]
  },
  {
   "cell_type": "code",
   "execution_count": 34,
   "id": "2caa16cd",
   "metadata": {},
   "outputs": [],
   "source": [
    "all_for_bowlers = all_for_bowlers[['innings','bowler', 'over1', 'over2', 'over3', 'over4', 'over5', 'over6', 'over7', 'over8', 'over9', 'over10', 'over11', 'over12', 'over13', 'over14', 'over15', 'over16', 'over17', 'over18', 'over19', 'over20', 'no_of_matches','overs_per_match']]"
   ]
  },
  {
   "cell_type": "code",
   "execution_count": 35,
   "id": "0aab820f",
   "metadata": {},
   "outputs": [],
   "source": [
    "def has_element_frequency_more_than_4(tup):\n",
    "    count = {}\n",
    "    for item in tup:\n",
    "        count[item] = count.get(item, 0) + 1\n",
    "        if count[item] >= 4:\n",
    "            return True\n",
    "    return False\n",
    "\n",
    "def has_consecutive_elements(tup):\n",
    "    return any(a == b for a, b in zip(tup, tup[1:]))\n",
    "\n",
    "def has_consecutive_numbers(t):\n",
    "    return any(t[i] == t[i-1] + 1 for i in range(1, len(t)))"
   ]
  },
  {
   "cell_type": "code",
   "execution_count": 36,
   "id": "68f7f7dc",
   "metadata": {},
   "outputs": [],
   "source": [
    "overs = [-5,-3,-1,1,2,3,4,5,6,7,8,9,10,11,12,13,14,15,16,17,18,19,20]\n",
    "import itertools\n",
    "combinations = list(itertools.combinations(overs, 4))\n",
    "filtered_lst = []\n",
    "for tup in combinations:\n",
    "    if has_consecutive_elements(tup)==False:\n",
    "        if has_consecutive_numbers(tup)==False:\n",
    "            filtered_lst.append(tup)\n",
    "# remove_items = (-5, -3, -1)\n",
    "# filtered_lst = [tuple(item for item in tup if item not in remove_items) for tup in filtered_lst]\n",
    "filtered_lst = [tuple(item for item in tup if item) for tup in filtered_lst]\n",
    "unique_tuples = []\n",
    "for tup in filtered_lst:\n",
    "    set_tup = set(tup)\n",
    "    if set_tup not in unique_tuples:\n",
    "        unique_tuples.append(set_tup)\n",
    "\n",
    "filtered_lst = [tuple(set_tup) for set_tup in unique_tuples]"
   ]
  },
  {
   "cell_type": "code",
   "execution_count": 37,
   "id": "1cd447a1",
   "metadata": {},
   "outputs": [
    {
     "name": "stderr",
     "output_type": "stream",
     "text": [
      "C:\\ProgramData\\Anaconda3\\lib\\site-packages\\openpyxl\\worksheet\\_read_only.py:79: UserWarning: Data Validation extension is not supported and will be removed\n",
      "  for idx, row in parser.parse():\n",
      "C:\\ProgramData\\Anaconda3\\lib\\site-packages\\openpyxl\\worksheet\\_read_only.py:79: UserWarning: Data Validation extension is not supported and will be removed\n",
      "  for idx, row in parser.parse():\n"
     ]
    }
   ],
   "source": [
    "team1 = pd.read_excel(\"C:/Users/Vishnu Kumar/Documents/IPL/input/team1.xlsx\")\n",
    "team2 = pd.read_excel(\"C:/Users/Vishnu Kumar/Documents/IPL/input/team2.xlsx\")\n",
    "team1['bowl_innings'] = 2\n",
    "team2['bowl_innings'] = 1"
   ]
  },
  {
   "cell_type": "code",
   "execution_count": 38,
   "id": "7aa411b8",
   "metadata": {},
   "outputs": [],
   "source": [
    "team1 = pd.merge(team2, all_for_bowlers, how = 'left', right_on = ['innings','bowler'] , left_on = ['bowl_innings', 'Team2'])\n",
    "team1 = team1.dropna()\n",
    "team1 = team1.drop(columns=['innings','Team2','no_of_matches'])"
   ]
  },
  {
   "cell_type": "code",
   "execution_count": 39,
   "id": "5dfac98a",
   "metadata": {},
   "outputs": [
    {
     "name": "stderr",
     "output_type": "stream",
     "text": [
      "C:\\Users\\Vishnu Kumar\\AppData\\Local\\Temp\\ipykernel_21512\\901689136.py:63: FutureWarning: The frame.append method is deprecated and will be removed from pandas in a future version. Use pandas.concat instead.\n",
      "  all_possible_bowler = all_possible_bowler.append({'bowler': val, 'number_of_possibility': len(locals()[new_var_name])}, ignore_index=True)\n",
      "C:\\Users\\Vishnu Kumar\\AppData\\Local\\Temp\\ipykernel_21512\\901689136.py:63: FutureWarning: The frame.append method is deprecated and will be removed from pandas in a future version. Use pandas.concat instead.\n",
      "  all_possible_bowler = all_possible_bowler.append({'bowler': val, 'number_of_possibility': len(locals()[new_var_name])}, ignore_index=True)\n",
      "C:\\Users\\Vishnu Kumar\\AppData\\Local\\Temp\\ipykernel_21512\\901689136.py:63: FutureWarning: The frame.append method is deprecated and will be removed from pandas in a future version. Use pandas.concat instead.\n",
      "  all_possible_bowler = all_possible_bowler.append({'bowler': val, 'number_of_possibility': len(locals()[new_var_name])}, ignore_index=True)\n",
      "C:\\Users\\Vishnu Kumar\\AppData\\Local\\Temp\\ipykernel_21512\\901689136.py:63: FutureWarning: The frame.append method is deprecated and will be removed from pandas in a future version. Use pandas.concat instead.\n",
      "  all_possible_bowler = all_possible_bowler.append({'bowler': val, 'number_of_possibility': len(locals()[new_var_name])}, ignore_index=True)\n",
      "C:\\Users\\Vishnu Kumar\\AppData\\Local\\Temp\\ipykernel_21512\\901689136.py:63: FutureWarning: The frame.append method is deprecated and will be removed from pandas in a future version. Use pandas.concat instead.\n",
      "  all_possible_bowler = all_possible_bowler.append({'bowler': val, 'number_of_possibility': len(locals()[new_var_name])}, ignore_index=True)\n",
      "C:\\Users\\Vishnu Kumar\\AppData\\Local\\Temp\\ipykernel_21512\\901689136.py:63: FutureWarning: The frame.append method is deprecated and will be removed from pandas in a future version. Use pandas.concat instead.\n",
      "  all_possible_bowler = all_possible_bowler.append({'bowler': val, 'number_of_possibility': len(locals()[new_var_name])}, ignore_index=True)\n",
      "C:\\Users\\Vishnu Kumar\\AppData\\Local\\Temp\\ipykernel_21512\\901689136.py:63: FutureWarning: The frame.append method is deprecated and will be removed from pandas in a future version. Use pandas.concat instead.\n",
      "  all_possible_bowler = all_possible_bowler.append({'bowler': val, 'number_of_possibility': len(locals()[new_var_name])}, ignore_index=True)\n"
     ]
    }
   ],
   "source": [
    "my_list = team1['bowler'].to_numpy()\n",
    "\n",
    "all_possible_bowler = pd.DataFrame(columns=['bowler', 'number_of_possibility'])\n",
    "all_bowler_combination = pd.DataFrame(columns=['bowler', 'number_of_overs'])\n",
    "remove_items = (-5, -3, -1)\n",
    "\n",
    "for i, val in enumerate(my_list):\n",
    "    new_var_name_1 = f\"bowler_lst_possible_{i}\"\n",
    "    new_var_name = f\"bowler_lst_{i}\"\n",
    "    locals()[new_var_name] = []\n",
    "    bowler_average = team1[team1['bowler']==val]['overs_per_match'].iloc[0]\n",
    "    bowler_average_max = round(bowler_average+0.5)\n",
    "    bowler_average_min = round(bowler_average-0.5)\n",
    "    if bowler_average_max>4:\n",
    "        bowler_average_max = 4\n",
    "        \n",
    "    if bowler_average_min < 0:\n",
    "        bowler_average_min =0\n",
    "\n",
    "    bowler = val\n",
    "    \n",
    "    new_values = {1: team1.loc[team1['bowler'] == bowler, 'over1'].iloc[0], \n",
    "              2: team1.loc[team1['bowler'] == bowler, 'over2'].iloc[0], \n",
    "              3: team1.loc[team1['bowler'] == bowler, 'over3'].iloc[0],\n",
    "              4: team1.loc[team1['bowler'] == bowler, 'over4'].iloc[0], \n",
    "              5: team1.loc[team1['bowler'] == bowler, 'over5'].iloc[0], \n",
    "              6: team1.loc[team1['bowler'] == bowler, 'over6'].iloc[0], \n",
    "              7: team1.loc[team1['bowler'] == bowler, 'over7'].iloc[0], \n",
    "              8: team1.loc[team1['bowler'] == bowler, 'over8'].iloc[0], \n",
    "              9: team1.loc[team1['bowler'] == bowler, 'over9'].iloc[0], \n",
    "              10: team1.loc[team1['bowler'] == bowler, 'over10'].iloc[0], \n",
    "              11: team1.loc[team1['bowler'] == bowler, 'over11'].iloc[0], \n",
    "              12: team1.loc[team1['bowler'] == bowler, 'over12'].iloc[0], \n",
    "              13: team1.loc[team1['bowler'] == bowler, 'over13'].iloc[0], \n",
    "              14: team1.loc[team1['bowler'] == bowler, 'over14'].iloc[0], \n",
    "              15: team1.loc[team1['bowler'] == bowler, 'over15'].iloc[0], \n",
    "              16: team1.loc[team1['bowler'] == bowler, 'over16'].iloc[0], \n",
    "              17: team1.loc[team1['bowler'] == bowler, 'over17'].iloc[0], \n",
    "              18: team1.loc[team1['bowler'] == bowler, 'over18'].iloc[0], \n",
    "              19: team1.loc[team1['bowler'] == bowler, 'over19'].iloc[0], \n",
    "              20: team1.loc[team1['bowler'] == bowler, 'over20'].iloc[0],\n",
    "              -5: 1,\n",
    "               -3: 1,\n",
    "                 -1:1}\n",
    "\n",
    "    threshold = 0.15\n",
    "    \n",
    "    for tup in filtered_lst:\n",
    "        flag = True\n",
    "        for item in tup:\n",
    "            if new_values[item] < threshold:\n",
    "                flag = False\n",
    "                break\n",
    "        if flag:\n",
    "            tup = tuple(item for item in tup if item not in remove_items)\n",
    "            \n",
    "            if len(tup)<=bowler_average_max and len(tup)>=bowler_average_min:\n",
    "                locals()[new_var_name].append(tup)\n",
    "\n",
    "#     locals()[new_var_name] = [tuple(item for item in tup if item not in remove_items) for tup in locals()[new_var_name]]\n",
    "    locals()[new_var_name] = list(set(locals()[new_var_name]))\n",
    "    locals()[new_var_name] = [tuple(sorted(t)) for t in locals()[new_var_name]]\n",
    "    all_possible_bowler = all_possible_bowler.append({'bowler': val, 'number_of_possibility': len(locals()[new_var_name])}, ignore_index=True)\n",
    "    locals()[new_var_name] = sorted(locals()[new_var_name], key=len, reverse=True)\n",
    "    locals()[new_var_name_1] = list(set(len(tup) for tup in locals()[new_var_name]))\n",
    "\n",
    "\n",
    "all_possible_bowler = all_possible_bowler[all_possible_bowler['number_of_possibility']>0].reset_index()\n"
   ]
  },
  {
   "cell_type": "markdown",
   "id": "2fb834ce",
   "metadata": {},
   "source": [
    "Venue,\n",
    "Chinnaswamy Bangalore,\n",
    "Bindra Mohali,\n",
    "Feroz Delhi,\n",
    "Eden Kolkata,\n",
    "Wankhede Mumbai,\n",
    "Mansingh Jaipur,\n",
    "Rajiv Hyderabad,\n",
    "Chidambaram Chennai,\n",
    "Patil Mumbai,\n",
    "Newlands SA,\n",
    "George SA,\n",
    "Kingsmead SA,\n",
    "Supersport SA,\n",
    "Buffalo SA,\n",
    "Wanderers SA,\n",
    "Beers SA,\n",
    "Outsurance SA,\n",
    "Brabourne Mumbai,\n",
    "Sardar Ahmedabad,\n",
    "Barabati Cuttack,\n",
    "Brabourne Mumbai,\n",
    "Vidarbha Nagpur,\n",
    "HPCA Dharamshala,\n",
    "Jawaharlal Kochi,\n",
    "Holkar Indore,\n",
    "Rajashekar Visakhapatnam,\n",
    "Subrata Pune,\n",
    "Subrata Pune,\n",
    "Shaheed Raipur,\n",
    "JSCA Ranchi,\n",
    "Abudhabi UAE,\n",
    "Sharjah UAE,\n",
    "Dubai UAE,\n",
    "Bindra Mohali,\n",
    "Saurashtra Rajkot,\n",
    "Green Kanpur,\n",
    "Chinnaswamy Bangalore,\n",
    "Chidambaram Chennai,\n",
    "Feroz Delhi,\n",
    "Rajiv Hyderabad,\n",
    "Bindra Mohali,\n",
    "Chidambaram Chennai,\n",
    "Wankhede Mumbai,\n",
    "Sardar Ahmedabad,\n",
    "Feroz Delhi,\n",
    "Abudhabi UAE,\n",
    "Patil Mumbai,\n",
    "Subrata Pune,\n",
    "Eden Kolkata"
   ]
  },
  {
   "cell_type": "markdown",
   "id": "c9364fa0",
   "metadata": {},
   "source": [
    "Team,\n",
    "Kolkata,\n",
    "Bangalore,\n",
    "Chennai,\n",
    "Punjab,\n",
    "Rajastan,\n",
    "Delhi,\n",
    "Hyderabad,\n",
    "Mumbai,\n",
    "Kochi,\n",
    "Pune,\n",
    "Hyderabad,\n",
    "Pune,\n",
    "Gujarat,\n",
    "Pune,\n",
    "Delhi,\n",
    "Punjab,\n",
    "Lucknow,\n",
    "Gujarat"
   ]
  },
  {
   "cell_type": "code",
   "execution_count": null,
   "id": "a62b7d91",
   "metadata": {},
   "outputs": [],
   "source": [
    "team1 = pd.read_excel(\"C:/Users/Vishnu Kumar/Documents/IPL/input/team1.xlsx\")\n",
    "team2 = pd.read_excel(\"C:/Users/Vishnu Kumar/Documents/IPL/input/team2.xlsx\")\n",
    "team1['bat_innings'] = 1\n",
    "team2['bat_innings'] = 2"
   ]
  }
 ],
 "metadata": {
  "kernelspec": {
   "display_name": "Python 3 (ipykernel)",
   "language": "python",
   "name": "python3"
  },
  "language_info": {
   "codemirror_mode": {
    "name": "ipython",
    "version": 3
   },
   "file_extension": ".py",
   "mimetype": "text/x-python",
   "name": "python",
   "nbconvert_exporter": "python",
   "pygments_lexer": "ipython3",
   "version": "3.8.16"
  }
 },
 "nbformat": 4,
 "nbformat_minor": 5
}
